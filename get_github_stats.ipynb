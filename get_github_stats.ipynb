{
 "cells": [
  {
   "cell_type": "code",
   "execution_count": 146,
   "id": "4b570ead",
   "metadata": {},
   "outputs": [],
   "source": [
    "import urllib.request\n",
    "import requests\n",
    "import json\n",
    "import pandas as pd\n",
    "import numpy as np\n",
    "import os\n",
    "import matplotlib.pyplot as plt"
   ]
  },
  {
   "cell_type": "code",
   "execution_count": 2,
   "id": "dd3b25ad",
   "metadata": {},
   "outputs": [],
   "source": [
    "#os.environ[\"Token1\"] = \"your personal access token1\"\n",
    "#os.environ[\"Token2\"] = \"your personal access token2\""
   ]
  },
  {
   "cell_type": "markdown",
   "id": "b717973f",
   "metadata": {},
   "source": [
    "# Projects"
   ]
  },
  {
   "cell_type": "code",
   "execution_count": 148,
   "id": "55e42998",
   "metadata": {},
   "outputs": [],
   "source": [
    "def load_projects():\n",
    "    with urllib.request.urlopen('https://api.github.com/orgs/delta-io/repos') as response:\n",
    "        delta_json_obj = json.load(response)\n",
    "    delta_proj_repos = []\n",
    "    for i in delta_json_obj:\n",
    "        delta_proj_repos.append(i['full_name'])\n",
    "        \n",
    "    all_proj_repos = ['apache/iceberg','apache/hudi']\n",
    "    all_proj_repos.extend(delta_proj_repos)\n",
    "\n",
    "    return all_proj_repos"
   ]
  },
  {
   "cell_type": "code",
   "execution_count": 149,
   "id": "d4939a59",
   "metadata": {},
   "outputs": [],
   "source": [
    "all_proj_repos = load_projects()"
   ]
  },
  {
   "cell_type": "code",
   "execution_count": 9,
   "id": "0b991293",
   "metadata": {},
   "outputs": [
    {
     "name": "stdout",
     "output_type": "stream",
     "text": [
      "['apache/iceberg', 'apache/hudi', 'delta-io/delta', 'delta-io/delta-examples', 'delta-io/connectors', 'delta-io/delta-rs', 'delta-io/website', 'delta-io/kafka-delta-ingest', 'delta-io/delta-sharing', 'delta-io/delta-docs']\n"
     ]
    }
   ],
   "source": [
    "print(all_proj_repos)"
   ]
  },
  {
   "cell_type": "markdown",
   "id": "9541ab48",
   "metadata": {},
   "source": [
    "# All Project Contributors"
   ]
  },
  {
   "cell_type": "code",
   "execution_count": 10,
   "id": "f6304ad3",
   "metadata": {},
   "outputs": [],
   "source": [
    "def load_project_contributors():\n",
    "    all_proj_contributors = []\n",
    "    for i in all_proj_repos:\n",
    "        all_proj_contributors.append({'repo':str(i), 'contributors':''})\n",
    "    \n",
    "    for i in all_proj_contributors:\n",
    "        url = 'https://api.github.com/repos/'+str(i['repo'])+'/contributors?per_page=100&page=1'\n",
    "        response = requests.get(url,headers={\"Authorization\": 'token '+os.environ[\"Token1\"]})\n",
    "        i['contributors'] = response.json()\n",
    "        while 'next' in response.links.keys():\n",
    "            response = requests.get(response.links['next']['url'],headers={\"Authorization\": 'token '+os.environ[\"Token1\"]})\n",
    "            i['contributors'].extend(response.json())\n",
    "    \n",
    "    df_all_proj_contributors = pd.json_normalize([user for user in all_proj_contributors],\n",
    "                 record_path = ['contributors'],\n",
    "                 meta = ['repo'],\n",
    "                 errors = 'ignore'\n",
    "                 )[['login','url','contributions','repo']]\n",
    "    \n",
    "    conditions = [\n",
    "        (df_all_proj_contributors['repo'].str.contains('delta-io') ),\n",
    "        (df_all_proj_contributors['repo'].str.contains('iceberg') ),\n",
    "        (df_all_proj_contributors['repo'].str.contains('hudi') )\n",
    "    ]\n",
    "\n",
    "    values = ['delta','iceberg','hudi']\n",
    "    \n",
    "    df_all_proj_contributors['project'] = np.select(conditions, values)\n",
    "\n",
    "    return df_all_proj_contributors"
   ]
  },
  {
   "cell_type": "code",
   "execution_count": 7,
   "id": "1453cf74",
   "metadata": {},
   "outputs": [],
   "source": [
    "df_all_proj_contributors = load_project_contributors()"
   ]
  },
  {
   "cell_type": "code",
   "execution_count": 11,
   "id": "60aa3653",
   "metadata": {},
   "outputs": [
    {
     "data": {
      "text/html": [
       "<div>\n",
       "<style scoped>\n",
       "    .dataframe tbody tr th:only-of-type {\n",
       "        vertical-align: middle;\n",
       "    }\n",
       "\n",
       "    .dataframe tbody tr th {\n",
       "        vertical-align: top;\n",
       "    }\n",
       "\n",
       "    .dataframe thead th {\n",
       "        text-align: right;\n",
       "    }\n",
       "</style>\n",
       "<table border=\"1\" class=\"dataframe\">\n",
       "  <thead>\n",
       "    <tr style=\"text-align: right;\">\n",
       "      <th></th>\n",
       "      <th>login</th>\n",
       "      <th>url</th>\n",
       "      <th>contributions</th>\n",
       "      <th>repo</th>\n",
       "      <th>project</th>\n",
       "    </tr>\n",
       "  </thead>\n",
       "  <tbody>\n",
       "    <tr>\n",
       "      <th>0</th>\n",
       "      <td>rdblue</td>\n",
       "      <td>https://api.github.com/users/rdblue</td>\n",
       "      <td>667</td>\n",
       "      <td>apache/iceberg</td>\n",
       "      <td>iceberg</td>\n",
       "    </tr>\n",
       "    <tr>\n",
       "      <th>1</th>\n",
       "      <td>aokolnychyi</td>\n",
       "      <td>https://api.github.com/users/aokolnychyi</td>\n",
       "      <td>329</td>\n",
       "      <td>apache/iceberg</td>\n",
       "      <td>iceberg</td>\n",
       "    </tr>\n",
       "    <tr>\n",
       "      <th>2</th>\n",
       "      <td>Fokko</td>\n",
       "      <td>https://api.github.com/users/Fokko</td>\n",
       "      <td>285</td>\n",
       "      <td>apache/iceberg</td>\n",
       "      <td>iceberg</td>\n",
       "    </tr>\n",
       "    <tr>\n",
       "      <th>3</th>\n",
       "      <td>nastra</td>\n",
       "      <td>https://api.github.com/users/nastra</td>\n",
       "      <td>205</td>\n",
       "      <td>apache/iceberg</td>\n",
       "      <td>iceberg</td>\n",
       "    </tr>\n",
       "    <tr>\n",
       "      <th>4</th>\n",
       "      <td>kbendick</td>\n",
       "      <td>https://api.github.com/users/kbendick</td>\n",
       "      <td>181</td>\n",
       "      <td>apache/iceberg</td>\n",
       "      <td>iceberg</td>\n",
       "    </tr>\n",
       "  </tbody>\n",
       "</table>\n",
       "</div>"
      ],
      "text/plain": [
       "         login                                       url  contributions  \\\n",
       "0       rdblue       https://api.github.com/users/rdblue            667   \n",
       "1  aokolnychyi  https://api.github.com/users/aokolnychyi            329   \n",
       "2        Fokko        https://api.github.com/users/Fokko            285   \n",
       "3       nastra       https://api.github.com/users/nastra            205   \n",
       "4     kbendick     https://api.github.com/users/kbendick            181   \n",
       "\n",
       "             repo  project  \n",
       "0  apache/iceberg  iceberg  \n",
       "1  apache/iceberg  iceberg  \n",
       "2  apache/iceberg  iceberg  \n",
       "3  apache/iceberg  iceberg  \n",
       "4  apache/iceberg  iceberg  "
      ]
     },
     "execution_count": 11,
     "metadata": {},
     "output_type": "execute_result"
    }
   ],
   "source": [
    "df_all_proj_contributors.head()"
   ]
  },
  {
   "cell_type": "code",
   "execution_count": 11,
   "id": "3fa4311d",
   "metadata": {},
   "outputs": [],
   "source": [
    "#df_all_proj_contributors.to_csv(\"all_proj_contributors.csv\", index=False)"
   ]
  },
  {
   "cell_type": "code",
   "execution_count": 4,
   "id": "2ec2fc5b",
   "metadata": {},
   "outputs": [],
   "source": [
    "#df_all_proj_contributors = pd.read_csv('all_proj_contributors.csv')"
   ]
  },
  {
   "cell_type": "markdown",
   "id": "f6f3bf9c",
   "metadata": {},
   "source": [
    "# Unique Contributor Profiles"
   ]
  },
  {
   "cell_type": "code",
   "execution_count": 12,
   "id": "5614939d",
   "metadata": {},
   "outputs": [],
   "source": [
    "def load_unique_profiles():\n",
    "    df_unique_contributors = df_all_proj_contributors['url'].unique()\n",
    "    unique_profiles = []\n",
    "    for i in df_unique_contributors:\n",
    "        req = urllib.request.Request(i)\n",
    "        req.add_header('Authorization', 'token '+os.environ[\"Token1\"])\n",
    "        #progress_contributors.progress(j+1)\n",
    "        with urllib.request.urlopen(req) as response:\n",
    "                unique_profiles.append(json.load(response))\n",
    "    \n",
    "    df_unique_profiles = pd.DataFrame(unique_profiles, columns = ['login','company','email','created_at','updated_at'])\n",
    "    \n",
    "    return df_unique_profiles"
   ]
  },
  {
   "cell_type": "code",
   "execution_count": 14,
   "id": "daa6a923",
   "metadata": {},
   "outputs": [],
   "source": [
    "df_unique_profiles = load_unique_profiles()"
   ]
  },
  {
   "cell_type": "code",
   "execution_count": 15,
   "id": "977f2330",
   "metadata": {},
   "outputs": [
    {
     "data": {
      "text/html": [
       "<div>\n",
       "<style scoped>\n",
       "    .dataframe tbody tr th:only-of-type {\n",
       "        vertical-align: middle;\n",
       "    }\n",
       "\n",
       "    .dataframe tbody tr th {\n",
       "        vertical-align: top;\n",
       "    }\n",
       "\n",
       "    .dataframe thead th {\n",
       "        text-align: right;\n",
       "    }\n",
       "</style>\n",
       "<table border=\"1\" class=\"dataframe\">\n",
       "  <thead>\n",
       "    <tr style=\"text-align: right;\">\n",
       "      <th></th>\n",
       "      <th>login</th>\n",
       "      <th>company</th>\n",
       "      <th>email</th>\n",
       "      <th>created_at</th>\n",
       "      <th>updated_at</th>\n",
       "    </tr>\n",
       "  </thead>\n",
       "  <tbody>\n",
       "    <tr>\n",
       "      <th>0</th>\n",
       "      <td>rdblue</td>\n",
       "      <td>Tabular, @tabular-io</td>\n",
       "      <td>blue@apache.org</td>\n",
       "      <td>2009-05-23T22:01:55Z</td>\n",
       "      <td>2023-01-23T19:25:33Z</td>\n",
       "    </tr>\n",
       "    <tr>\n",
       "      <th>1</th>\n",
       "      <td>aokolnychyi</td>\n",
       "      <td>Apple</td>\n",
       "      <td>aokolnychyi@apache.org</td>\n",
       "      <td>2013-12-21T10:19:19Z</td>\n",
       "      <td>2023-04-05T02:56:26Z</td>\n",
       "    </tr>\n",
       "    <tr>\n",
       "      <th>2</th>\n",
       "      <td>Fokko</td>\n",
       "      <td>@tabular-io</td>\n",
       "      <td>fokko@driesprong.frl</td>\n",
       "      <td>2011-10-17T20:40:53Z</td>\n",
       "      <td>2023-03-09T09:16:21Z</td>\n",
       "    </tr>\n",
       "    <tr>\n",
       "      <th>3</th>\n",
       "      <td>nastra</td>\n",
       "      <td>@tabular-io</td>\n",
       "      <td>etudenhoefner@gmail.com</td>\n",
       "      <td>2010-05-08T08:58:58Z</td>\n",
       "      <td>2023-04-04T14:46:58Z</td>\n",
       "    </tr>\n",
       "    <tr>\n",
       "      <th>4</th>\n",
       "      <td>kbendick</td>\n",
       "      <td>@tabular-io</td>\n",
       "      <td>None</td>\n",
       "      <td>2014-11-19T00:02:08Z</td>\n",
       "      <td>2023-01-21T18:02:15Z</td>\n",
       "    </tr>\n",
       "  </tbody>\n",
       "</table>\n",
       "</div>"
      ],
      "text/plain": [
       "         login               company                    email  \\\n",
       "0       rdblue  Tabular, @tabular-io          blue@apache.org   \n",
       "1  aokolnychyi                 Apple   aokolnychyi@apache.org   \n",
       "2        Fokko           @tabular-io     fokko@driesprong.frl   \n",
       "3       nastra           @tabular-io  etudenhoefner@gmail.com   \n",
       "4     kbendick          @tabular-io                      None   \n",
       "\n",
       "             created_at            updated_at  \n",
       "0  2009-05-23T22:01:55Z  2023-01-23T19:25:33Z  \n",
       "1  2013-12-21T10:19:19Z  2023-04-05T02:56:26Z  \n",
       "2  2011-10-17T20:40:53Z  2023-03-09T09:16:21Z  \n",
       "3  2010-05-08T08:58:58Z  2023-04-04T14:46:58Z  \n",
       "4  2014-11-19T00:02:08Z  2023-01-21T18:02:15Z  "
      ]
     },
     "execution_count": 15,
     "metadata": {},
     "output_type": "execute_result"
    }
   ],
   "source": [
    "df_unique_profiles.head()"
   ]
  },
  {
   "cell_type": "code",
   "execution_count": 16,
   "id": "843e6809",
   "metadata": {},
   "outputs": [],
   "source": [
    "#df_unique_profiles.to_csv(\"unique_profiles.csv\", index=False)"
   ]
  },
  {
   "cell_type": "code",
   "execution_count": 11,
   "id": "ea4cb814",
   "metadata": {},
   "outputs": [],
   "source": [
    "#df_unique_profiles = pd.read_csv('unique_profiles.csv')"
   ]
  },
  {
   "cell_type": "markdown",
   "id": "ea679dc6",
   "metadata": {},
   "source": [
    "# Pull Requests"
   ]
  },
  {
   "cell_type": "code",
   "execution_count": 18,
   "id": "5664149e",
   "metadata": {},
   "outputs": [],
   "source": [
    "def load_project_pulls():\n",
    "    all_proj_pulls = []\n",
    "    for i in all_proj_repos:\n",
    "        all_proj_pulls.append({'repo':str(i), 'pulls':''})\n",
    "    \n",
    "    for i in all_proj_pulls:\n",
    "        url = 'https://api.github.com/repos/'+str(i['repo'])+'/pulls?state=all&page=1'\n",
    "        response = requests.get(url,headers={\"Authorization\": 'token '+os.environ[\"Token2\"]})\n",
    "        i['pulls'] = response.json()\n",
    "        while 'next' in response.links.keys():\n",
    "            response = requests.get(response.links['next']['url'],headers={\"Authorization\": 'token '+os.environ[\"Token2\"]})\n",
    "            i['pulls'].extend(response.json())\n",
    "    \n",
    "    # flatten the JSON payload into a dataframe, only keeping fields needed\n",
    "    df_pulls = pd.json_normalize([pull for pull in all_proj_pulls],\n",
    "                            record_path = ['pulls'],\n",
    "                            meta = ['repo'])[['repo','id','number','state','user.login','created_at','updated_at','closed_at','merged_at']]\n",
    "    \n",
    "    df_pulls = df_pulls.rename(columns={'user.login':'login'})\n",
    "    \n",
    "    conditions = [\n",
    "        (df_pulls['repo'].str.contains('delta-io') ),\n",
    "        (df_pulls['repo'].str.contains('iceberg') ),\n",
    "        (df_pulls['repo'].str.contains('hudi') )\n",
    "    ]\n",
    "\n",
    "    values = ['delta','iceberg','hudi']\n",
    "    \n",
    "    df_pulls['project'] = np.select(conditions, values)\n",
    "    \n",
    "    return df_pulls"
   ]
  },
  {
   "cell_type": "code",
   "execution_count": 19,
   "id": "3372ce55",
   "metadata": {},
   "outputs": [],
   "source": [
    "df_pulls = load_project_pulls()"
   ]
  },
  {
   "cell_type": "code",
   "execution_count": 15,
   "id": "3bb7a392",
   "metadata": {},
   "outputs": [
    {
     "data": {
      "text/html": [
       "<div>\n",
       "<style scoped>\n",
       "    .dataframe tbody tr th:only-of-type {\n",
       "        vertical-align: middle;\n",
       "    }\n",
       "\n",
       "    .dataframe tbody tr th {\n",
       "        vertical-align: top;\n",
       "    }\n",
       "\n",
       "    .dataframe thead th {\n",
       "        text-align: right;\n",
       "    }\n",
       "</style>\n",
       "<table border=\"1\" class=\"dataframe\">\n",
       "  <thead>\n",
       "    <tr style=\"text-align: right;\">\n",
       "      <th></th>\n",
       "      <th>repo</th>\n",
       "      <th>id</th>\n",
       "      <th>number</th>\n",
       "      <th>state</th>\n",
       "      <th>login</th>\n",
       "      <th>created_at</th>\n",
       "      <th>updated_at</th>\n",
       "      <th>closed_at</th>\n",
       "      <th>merged_at</th>\n",
       "      <th>project</th>\n",
       "    </tr>\n",
       "  </thead>\n",
       "  <tbody>\n",
       "    <tr>\n",
       "      <th>0</th>\n",
       "      <td>apache/iceberg</td>\n",
       "      <td>1302193390</td>\n",
       "      <td>7279</td>\n",
       "      <td>open</td>\n",
       "      <td>singhpk234</td>\n",
       "      <td>2023-04-04T19:46:53Z</td>\n",
       "      <td>2023-04-04T19:58:48Z</td>\n",
       "      <td>NaN</td>\n",
       "      <td>NaN</td>\n",
       "      <td>iceberg</td>\n",
       "    </tr>\n",
       "    <tr>\n",
       "      <th>1</th>\n",
       "      <td>apache/iceberg</td>\n",
       "      <td>1300646735</td>\n",
       "      <td>7277</td>\n",
       "      <td>open</td>\n",
       "      <td>ericlgoodman</td>\n",
       "      <td>2023-04-03T20:22:45Z</td>\n",
       "      <td>2023-04-03T20:35:25Z</td>\n",
       "      <td>NaN</td>\n",
       "      <td>NaN</td>\n",
       "      <td>iceberg</td>\n",
       "    </tr>\n",
       "    <tr>\n",
       "      <th>2</th>\n",
       "      <td>apache/iceberg</td>\n",
       "      <td>1300535068</td>\n",
       "      <td>7275</td>\n",
       "      <td>open</td>\n",
       "      <td>abmo-x</td>\n",
       "      <td>2023-04-03T18:56:46Z</td>\n",
       "      <td>2023-04-04T20:48:39Z</td>\n",
       "      <td>NaN</td>\n",
       "      <td>NaN</td>\n",
       "      <td>iceberg</td>\n",
       "    </tr>\n",
       "    <tr>\n",
       "      <th>3</th>\n",
       "      <td>apache/iceberg</td>\n",
       "      <td>1300509171</td>\n",
       "      <td>7274</td>\n",
       "      <td>closed</td>\n",
       "      <td>danielcweeks</td>\n",
       "      <td>2023-04-03T18:32:47Z</td>\n",
       "      <td>2023-04-03T18:36:14Z</td>\n",
       "      <td>2023-04-03T18:36:14Z</td>\n",
       "      <td>NaN</td>\n",
       "      <td>iceberg</td>\n",
       "    </tr>\n",
       "    <tr>\n",
       "      <th>4</th>\n",
       "      <td>apache/iceberg</td>\n",
       "      <td>1300427050</td>\n",
       "      <td>7273</td>\n",
       "      <td>closed</td>\n",
       "      <td>amogh-jahagirdar</td>\n",
       "      <td>2023-04-03T17:25:39Z</td>\n",
       "      <td>2023-04-04T18:52:15Z</td>\n",
       "      <td>2023-04-03T22:02:48Z</td>\n",
       "      <td>2023-04-03T22:02:48Z</td>\n",
       "      <td>iceberg</td>\n",
       "    </tr>\n",
       "  </tbody>\n",
       "</table>\n",
       "</div>"
      ],
      "text/plain": [
       "             repo          id  number   state             login  \\\n",
       "0  apache/iceberg  1302193390    7279    open        singhpk234   \n",
       "1  apache/iceberg  1300646735    7277    open      ericlgoodman   \n",
       "2  apache/iceberg  1300535068    7275    open            abmo-x   \n",
       "3  apache/iceberg  1300509171    7274  closed      danielcweeks   \n",
       "4  apache/iceberg  1300427050    7273  closed  amogh-jahagirdar   \n",
       "\n",
       "             created_at            updated_at             closed_at  \\\n",
       "0  2023-04-04T19:46:53Z  2023-04-04T19:58:48Z                   NaN   \n",
       "1  2023-04-03T20:22:45Z  2023-04-03T20:35:25Z                   NaN   \n",
       "2  2023-04-03T18:56:46Z  2023-04-04T20:48:39Z                   NaN   \n",
       "3  2023-04-03T18:32:47Z  2023-04-03T18:36:14Z  2023-04-03T18:36:14Z   \n",
       "4  2023-04-03T17:25:39Z  2023-04-04T18:52:15Z  2023-04-03T22:02:48Z   \n",
       "\n",
       "              merged_at  project  \n",
       "0                   NaN  iceberg  \n",
       "1                   NaN  iceberg  \n",
       "2                   NaN  iceberg  \n",
       "3                   NaN  iceberg  \n",
       "4  2023-04-03T22:02:48Z  iceberg  "
      ]
     },
     "execution_count": 15,
     "metadata": {},
     "output_type": "execute_result"
    }
   ],
   "source": [
    "df_pulls.head()"
   ]
  },
  {
   "cell_type": "code",
   "execution_count": 14,
   "id": "a07d31e7",
   "metadata": {},
   "outputs": [],
   "source": [
    "#df_pulls.to_csv(\"pulls.csv\", index=False)"
   ]
  },
  {
   "cell_type": "code",
   "execution_count": 13,
   "id": "13892e46",
   "metadata": {},
   "outputs": [],
   "source": [
    "#df_pulls = pd.read_csv('pulls.csv')"
   ]
  },
  {
   "cell_type": "markdown",
   "id": "1ceb63af",
   "metadata": {},
   "source": [
    "# Commits"
   ]
  },
  {
   "cell_type": "code",
   "execution_count": 144,
   "id": "52cdb6a9",
   "metadata": {},
   "outputs": [],
   "source": [
    "def load_project_commits():\n",
    "    all_proj_commits = []\n",
    "    for i in all_proj_repos:\n",
    "        all_proj_commits.append({'repo':str(i), 'commits':''})\n",
    "    \n",
    "    for i in all_proj_commits:\n",
    "        url = 'https://api.github.com/repos/'+str(i['repo'])+'/commits?state=all&page=1'\n",
    "        response = requests.get(url,headers={\"Authorization\": 'token '+os.environ[\"Token2\"]})\n",
    "        i['commits'] = response.json()\n",
    "        while 'next' in response.links.keys():\n",
    "            response = requests.get(response.links['next']['url'],headers={\"Authorization\": 'token '+os.environ[\"Token2\"]})\n",
    "            i['commits'].extend(response.json())\n",
    "    \n",
    "    # flatten the JSON payload into a dataframe, only keeping fields needed\n",
    "    df_commits = pd.json_normalize([commit for commit in all_proj_commits],\n",
    "                            record_path = ['commits'],\n",
    "                            meta = ['repo'])[['repo','commit.author.date','author.login']]\n",
    "    \n",
    "    df_commits = df_commits.rename(columns={'author.login':'login'})\n",
    "    df_commits = df_commits.rename(columns={'commit.author.date':'created_at'})\n",
    "    \n",
    "    conditions = [\n",
    "        (df_commits['repo'].str.contains('delta-io') ),\n",
    "        (df_commits['repo'].str.contains('iceberg') ),\n",
    "        (df_commits['repo'].str.contains('hudi') )\n",
    "    ]\n",
    "\n",
    "    values = ['delta','iceberg','hudi']\n",
    "    \n",
    "    df_commits['project'] = np.select(conditions, values)\n",
    "\n",
    "    return df_commits"
   ]
  },
  {
   "cell_type": "code",
   "execution_count": 150,
   "id": "e4a3d206",
   "metadata": {},
   "outputs": [],
   "source": [
    "df_commits = load_project_commits()"
   ]
  },
  {
   "cell_type": "code",
   "execution_count": 151,
   "id": "4135469e",
   "metadata": {},
   "outputs": [
    {
     "data": {
      "text/html": [
       "<div>\n",
       "<style scoped>\n",
       "    .dataframe tbody tr th:only-of-type {\n",
       "        vertical-align: middle;\n",
       "    }\n",
       "\n",
       "    .dataframe tbody tr th {\n",
       "        vertical-align: top;\n",
       "    }\n",
       "\n",
       "    .dataframe thead th {\n",
       "        text-align: right;\n",
       "    }\n",
       "</style>\n",
       "<table border=\"1\" class=\"dataframe\">\n",
       "  <thead>\n",
       "    <tr style=\"text-align: right;\">\n",
       "      <th></th>\n",
       "      <th>repo</th>\n",
       "      <th>created_at</th>\n",
       "      <th>login</th>\n",
       "      <th>project</th>\n",
       "    </tr>\n",
       "  </thead>\n",
       "  <tbody>\n",
       "    <tr>\n",
       "      <th>0</th>\n",
       "      <td>apache/iceberg</td>\n",
       "      <td>2023-04-16T19:30:24Z</td>\n",
       "      <td>dependabot[bot]</td>\n",
       "      <td>iceberg</td>\n",
       "    </tr>\n",
       "    <tr>\n",
       "      <th>1</th>\n",
       "      <td>apache/iceberg</td>\n",
       "      <td>2023-04-16T19:18:40Z</td>\n",
       "      <td>dependabot[bot]</td>\n",
       "      <td>iceberg</td>\n",
       "    </tr>\n",
       "    <tr>\n",
       "      <th>2</th>\n",
       "      <td>apache/iceberg</td>\n",
       "      <td>2023-04-16T18:34:23Z</td>\n",
       "      <td>dependabot[bot]</td>\n",
       "      <td>iceberg</td>\n",
       "    </tr>\n",
       "    <tr>\n",
       "      <th>3</th>\n",
       "      <td>apache/iceberg</td>\n",
       "      <td>2023-04-16T03:58:29Z</td>\n",
       "      <td>chenjunjiedada</td>\n",
       "      <td>iceberg</td>\n",
       "    </tr>\n",
       "    <tr>\n",
       "      <th>4</th>\n",
       "      <td>apache/iceberg</td>\n",
       "      <td>2023-04-15T01:16:37Z</td>\n",
       "      <td>pavibhai</td>\n",
       "      <td>iceberg</td>\n",
       "    </tr>\n",
       "  </tbody>\n",
       "</table>\n",
       "</div>"
      ],
      "text/plain": [
       "             repo            created_at            login  project\n",
       "0  apache/iceberg  2023-04-16T19:30:24Z  dependabot[bot]  iceberg\n",
       "1  apache/iceberg  2023-04-16T19:18:40Z  dependabot[bot]  iceberg\n",
       "2  apache/iceberg  2023-04-16T18:34:23Z  dependabot[bot]  iceberg\n",
       "3  apache/iceberg  2023-04-16T03:58:29Z   chenjunjiedada  iceberg\n",
       "4  apache/iceberg  2023-04-15T01:16:37Z         pavibhai  iceberg"
      ]
     },
     "execution_count": 151,
     "metadata": {},
     "output_type": "execute_result"
    }
   ],
   "source": [
    "df_commits.head()"
   ]
  },
  {
   "cell_type": "code",
   "execution_count": 26,
   "id": "910b22f8",
   "metadata": {},
   "outputs": [],
   "source": [
    "#df_commits.to_csv(\"commits.csv\", index=False)"
   ]
  },
  {
   "cell_type": "code",
   "execution_count": 159,
   "id": "d22b27a0",
   "metadata": {},
   "outputs": [],
   "source": [
    "#df_commits = pd.read_csv('commits.csv')"
   ]
  },
  {
   "cell_type": "markdown",
   "id": "325baa8c",
   "metadata": {},
   "source": [
    "# Clean Company Values"
   ]
  },
  {
   "cell_type": "code",
   "execution_count": 16,
   "id": "e55e26fa",
   "metadata": {},
   "outputs": [
    {
     "data": {
      "text/html": [
       "<div>\n",
       "<style scoped>\n",
       "    .dataframe tbody tr th:only-of-type {\n",
       "        vertical-align: middle;\n",
       "    }\n",
       "\n",
       "    .dataframe tbody tr th {\n",
       "        vertical-align: top;\n",
       "    }\n",
       "\n",
       "    .dataframe thead th {\n",
       "        text-align: right;\n",
       "    }\n",
       "</style>\n",
       "<table border=\"1\" class=\"dataframe\">\n",
       "  <thead>\n",
       "    <tr style=\"text-align: right;\">\n",
       "      <th></th>\n",
       "      <th>login</th>\n",
       "      <th>company</th>\n",
       "      <th>email</th>\n",
       "      <th>created_at</th>\n",
       "      <th>updated_at</th>\n",
       "      <th>company_clean</th>\n",
       "    </tr>\n",
       "  </thead>\n",
       "  <tbody>\n",
       "    <tr>\n",
       "      <th>0</th>\n",
       "      <td>rdblue</td>\n",
       "      <td>Tabular, @tabular-io</td>\n",
       "      <td>blue@apache.org</td>\n",
       "      <td>2009-05-23T22:01:55Z</td>\n",
       "      <td>2023-01-23T19:25:33Z</td>\n",
       "      <td>tabular, @tabular-io</td>\n",
       "    </tr>\n",
       "    <tr>\n",
       "      <th>1</th>\n",
       "      <td>aokolnychyi</td>\n",
       "      <td>Apple</td>\n",
       "      <td>aokolnychyi@apache.org</td>\n",
       "      <td>2013-12-21T10:19:19Z</td>\n",
       "      <td>2023-01-10T00:20:45Z</td>\n",
       "      <td>apple</td>\n",
       "    </tr>\n",
       "    <tr>\n",
       "      <th>2</th>\n",
       "      <td>Fokko</td>\n",
       "      <td>@tabular-io</td>\n",
       "      <td>fokko@driesprong.frl</td>\n",
       "      <td>2011-10-17T20:40:53Z</td>\n",
       "      <td>2023-03-09T09:16:21Z</td>\n",
       "      <td>@tabular-io</td>\n",
       "    </tr>\n",
       "    <tr>\n",
       "      <th>3</th>\n",
       "      <td>nastra</td>\n",
       "      <td>@tabular-io</td>\n",
       "      <td>etudenhoefner@gmail.com</td>\n",
       "      <td>2010-05-08T08:58:58Z</td>\n",
       "      <td>2023-04-04T14:46:58Z</td>\n",
       "      <td>@tabular-io</td>\n",
       "    </tr>\n",
       "    <tr>\n",
       "      <th>4</th>\n",
       "      <td>kbendick</td>\n",
       "      <td>@tabular-io</td>\n",
       "      <td>NaN</td>\n",
       "      <td>2014-11-19T00:02:08Z</td>\n",
       "      <td>2023-01-21T18:02:15Z</td>\n",
       "      <td>@tabular-io</td>\n",
       "    </tr>\n",
       "  </tbody>\n",
       "</table>\n",
       "</div>"
      ],
      "text/plain": [
       "         login               company                    email  \\\n",
       "0       rdblue  Tabular, @tabular-io          blue@apache.org   \n",
       "1  aokolnychyi                 Apple   aokolnychyi@apache.org   \n",
       "2        Fokko           @tabular-io     fokko@driesprong.frl   \n",
       "3       nastra           @tabular-io  etudenhoefner@gmail.com   \n",
       "4     kbendick          @tabular-io                       NaN   \n",
       "\n",
       "             created_at            updated_at         company_clean  \n",
       "0  2009-05-23T22:01:55Z  2023-01-23T19:25:33Z  tabular, @tabular-io  \n",
       "1  2013-12-21T10:19:19Z  2023-01-10T00:20:45Z                 apple  \n",
       "2  2011-10-17T20:40:53Z  2023-03-09T09:16:21Z           @tabular-io  \n",
       "3  2010-05-08T08:58:58Z  2023-04-04T14:46:58Z           @tabular-io  \n",
       "4  2014-11-19T00:02:08Z  2023-01-21T18:02:15Z          @tabular-io   "
      ]
     },
     "execution_count": 16,
     "metadata": {},
     "output_type": "execute_result"
    }
   ],
   "source": [
    "# make capitalization consistent\n",
    "df_unique_profiles[['company_clean']] = df_unique_profiles['company'].str.lower()\n",
    "df_unique_profiles.head()"
   ]
  },
  {
   "cell_type": "code",
   "execution_count": 17,
   "id": "f032f948",
   "metadata": {},
   "outputs": [
    {
     "data": {
      "text/html": [
       "<div>\n",
       "<style scoped>\n",
       "    .dataframe tbody tr th:only-of-type {\n",
       "        vertical-align: middle;\n",
       "    }\n",
       "\n",
       "    .dataframe tbody tr th {\n",
       "        vertical-align: top;\n",
       "    }\n",
       "\n",
       "    .dataframe thead th {\n",
       "        text-align: right;\n",
       "    }\n",
       "</style>\n",
       "<table border=\"1\" class=\"dataframe\">\n",
       "  <thead>\n",
       "    <tr style=\"text-align: right;\">\n",
       "      <th></th>\n",
       "      <th>login</th>\n",
       "      <th>company</th>\n",
       "      <th>email</th>\n",
       "      <th>created_at</th>\n",
       "      <th>updated_at</th>\n",
       "      <th>company_clean</th>\n",
       "      <th>email_domain</th>\n",
       "    </tr>\n",
       "  </thead>\n",
       "  <tbody>\n",
       "    <tr>\n",
       "      <th>0</th>\n",
       "      <td>rdblue</td>\n",
       "      <td>Tabular, @tabular-io</td>\n",
       "      <td>blue@apache.org</td>\n",
       "      <td>2009-05-23T22:01:55Z</td>\n",
       "      <td>2023-01-23T19:25:33Z</td>\n",
       "      <td>tabular, @tabular-io</td>\n",
       "      <td>apache.org</td>\n",
       "    </tr>\n",
       "    <tr>\n",
       "      <th>1</th>\n",
       "      <td>aokolnychyi</td>\n",
       "      <td>Apple</td>\n",
       "      <td>aokolnychyi@apache.org</td>\n",
       "      <td>2013-12-21T10:19:19Z</td>\n",
       "      <td>2023-01-10T00:20:45Z</td>\n",
       "      <td>apple</td>\n",
       "      <td>apache.org</td>\n",
       "    </tr>\n",
       "    <tr>\n",
       "      <th>2</th>\n",
       "      <td>Fokko</td>\n",
       "      <td>@tabular-io</td>\n",
       "      <td>fokko@driesprong.frl</td>\n",
       "      <td>2011-10-17T20:40:53Z</td>\n",
       "      <td>2023-03-09T09:16:21Z</td>\n",
       "      <td>@tabular-io</td>\n",
       "      <td>driesprong.frl</td>\n",
       "    </tr>\n",
       "    <tr>\n",
       "      <th>3</th>\n",
       "      <td>nastra</td>\n",
       "      <td>@tabular-io</td>\n",
       "      <td>etudenhoefner@gmail.com</td>\n",
       "      <td>2010-05-08T08:58:58Z</td>\n",
       "      <td>2023-04-04T14:46:58Z</td>\n",
       "      <td>@tabular-io</td>\n",
       "      <td>gmail.com</td>\n",
       "    </tr>\n",
       "    <tr>\n",
       "      <th>4</th>\n",
       "      <td>kbendick</td>\n",
       "      <td>@tabular-io</td>\n",
       "      <td>NaN</td>\n",
       "      <td>2014-11-19T00:02:08Z</td>\n",
       "      <td>2023-01-21T18:02:15Z</td>\n",
       "      <td>@tabular-io</td>\n",
       "      <td>NaN</td>\n",
       "    </tr>\n",
       "  </tbody>\n",
       "</table>\n",
       "</div>"
      ],
      "text/plain": [
       "         login               company                    email  \\\n",
       "0       rdblue  Tabular, @tabular-io          blue@apache.org   \n",
       "1  aokolnychyi                 Apple   aokolnychyi@apache.org   \n",
       "2        Fokko           @tabular-io     fokko@driesprong.frl   \n",
       "3       nastra           @tabular-io  etudenhoefner@gmail.com   \n",
       "4     kbendick          @tabular-io                       NaN   \n",
       "\n",
       "             created_at            updated_at         company_clean  \\\n",
       "0  2009-05-23T22:01:55Z  2023-01-23T19:25:33Z  tabular, @tabular-io   \n",
       "1  2013-12-21T10:19:19Z  2023-01-10T00:20:45Z                 apple   \n",
       "2  2011-10-17T20:40:53Z  2023-03-09T09:16:21Z           @tabular-io   \n",
       "3  2010-05-08T08:58:58Z  2023-04-04T14:46:58Z           @tabular-io   \n",
       "4  2014-11-19T00:02:08Z  2023-01-21T18:02:15Z          @tabular-io    \n",
       "\n",
       "     email_domain  \n",
       "0      apache.org  \n",
       "1      apache.org  \n",
       "2  driesprong.frl  \n",
       "3       gmail.com  \n",
       "4             NaN  "
      ]
     },
     "execution_count": 17,
     "metadata": {},
     "output_type": "execute_result"
    }
   ],
   "source": [
    "# extract email domains, which will be used in case \"company\" is null\n",
    "df_unique_profiles[['email_domain']] = df_unique_profiles['email'].str.split('@', expand=True)[1]\n",
    "df_unique_profiles['email_domain'] = df_unique_profiles['email_domain'].str.lower()\n",
    "df_unique_profiles.head()"
   ]
  },
  {
   "cell_type": "code",
   "execution_count": 18,
   "id": "d1043988",
   "metadata": {},
   "outputs": [],
   "source": [
    "## Define matching conditions\n",
    "company_patterns = [\n",
    "    [df_unique_profiles['company_clean'].str.contains('databricks', na=False, regex=False), 'databricks'],\n",
    "    [df_unique_profiles['company_clean'].str.contains('tabular', na=False, regex=False), 'tabular'],\n",
    "    [df_unique_profiles['company_clean'].str.contains('apple', na=False, regex=False), 'apple'],\n",
    "    [df_unique_profiles['company_clean'].str.contains('adobe', na=False, regex=False), 'adobe'],\n",
    "    [df_unique_profiles['company_clean'].str.contains('netflix', na=False, regex=False), 'netflix'],\n",
    "    [df_unique_profiles['company_clean'].str.contains('starburst', na=False, regex=False), 'starburst'],\n",
    "    [df_unique_profiles['company_clean'].str.contains('aws', na=False, regex=False), 'amazon'],\n",
    "    [df_unique_profiles['company_clean'].str.contains('amazon', na=False, regex=False), 'amazon'],\n",
    "    [df_unique_profiles['company_clean'].str.contains('tencent', na=False, regex=False), 'amazon'],\n",
    "    [df_unique_profiles['company_clean'].str.contains('ibm', na=False, regex=False), 'amazon'],\n",
    "    [df_unique_profiles['company_clean'].str.contains('bytedance', na=False, regex=False), 'bytedance'],\n",
    "    [df_unique_profiles['company_clean'].str.contains('robinhood', na=False, regex=False), 'robinhood'],\n",
    "    [df_unique_profiles['company_clean'].str.contains('alibaba', na=False, regex=False), 'alibaba'],\n",
    "    [df_unique_profiles['company_clean'].str.contains('netease', na=False, regex=False), 'netease'],\n",
    "    [df_unique_profiles['company_clean'].str.contains('microsoft', na=False, regex=False), 'microsoft'],\n",
    "    [df_unique_profiles['company_clean'].str.contains('salesforce', na=False, regex=False), 'salesforce'],\n",
    "    [df_unique_profiles['company_clean'].str.contains('safegraph', na=False, regex=False), 'safegraph'],\n",
    "    [df_unique_profiles['company_clean'].str.contains('uber', na=False, regex=False), 'uber'],\n",
    "    [df_unique_profiles['company_clean'].str.contains('linkedin', na=False, regex=False), 'linkedin'],\n",
    "    [df_unique_profiles['company_clean'].str.contains('huawei', na=False, regex=False), 'huawei'],\n",
    "    [df_unique_profiles['email_domain'].str.contains('databricks', na=False, regex=False), 'databricks'],\n",
    "    [df_unique_profiles['email_domain'].str.contains('linkedin', na=False, regex=False), 'linkedin'],\n",
    "    [df_unique_profiles['email_domain'].str.contains('amazon', na=False, regex=False), 'amazon'],\n",
    "    [df_unique_profiles['email_domain'].str.contains('apple', na=False, regex=False), 'apple'],\n",
    "    [df_unique_profiles['email_domain'].str.contains('robinhood', na=False, regex=False), 'robinhood']\n",
    "]"
   ]
  },
  {
   "cell_type": "code",
   "execution_count": 19,
   "id": "30e2688e",
   "metadata": {},
   "outputs": [],
   "source": [
    "# remove any mentions of former employers, not to be mistaken for current\n",
    "df_unique_profiles['company_clean'] = df_unique_profiles['company_clean'].str.split('ex ', expand=True)[0]\n",
    "df_unique_profiles['company_clean'] = df_unique_profiles['company_clean'].str.split('ex-', expand=True)[0]"
   ]
  },
  {
   "cell_type": "code",
   "execution_count": 20,
   "id": "d11a60e7",
   "metadata": {},
   "outputs": [
    {
     "data": {
      "text/html": [
       "<div>\n",
       "<style scoped>\n",
       "    .dataframe tbody tr th:only-of-type {\n",
       "        vertical-align: middle;\n",
       "    }\n",
       "\n",
       "    .dataframe tbody tr th {\n",
       "        vertical-align: top;\n",
       "    }\n",
       "\n",
       "    .dataframe thead th {\n",
       "        text-align: right;\n",
       "    }\n",
       "</style>\n",
       "<table border=\"1\" class=\"dataframe\">\n",
       "  <thead>\n",
       "    <tr style=\"text-align: right;\">\n",
       "      <th></th>\n",
       "      <th>login</th>\n",
       "      <th>company</th>\n",
       "      <th>email</th>\n",
       "      <th>created_at</th>\n",
       "      <th>updated_at</th>\n",
       "      <th>company_clean</th>\n",
       "      <th>email_domain</th>\n",
       "      <th>company_clean_2</th>\n",
       "      <th>company_clean_3</th>\n",
       "    </tr>\n",
       "  </thead>\n",
       "  <tbody>\n",
       "    <tr>\n",
       "      <th>0</th>\n",
       "      <td>rdblue</td>\n",
       "      <td>Tabular, @tabular-io</td>\n",
       "      <td>blue@apache.org</td>\n",
       "      <td>2009-05-23T22:01:55Z</td>\n",
       "      <td>2023-01-23T19:25:33Z</td>\n",
       "      <td>tabular, tabular-io</td>\n",
       "      <td>apache.org</td>\n",
       "      <td>tabular</td>\n",
       "      <td>tabular</td>\n",
       "    </tr>\n",
       "    <tr>\n",
       "      <th>1</th>\n",
       "      <td>aokolnychyi</td>\n",
       "      <td>Apple</td>\n",
       "      <td>aokolnychyi@apache.org</td>\n",
       "      <td>2013-12-21T10:19:19Z</td>\n",
       "      <td>2023-01-10T00:20:45Z</td>\n",
       "      <td>apple</td>\n",
       "      <td>apache.org</td>\n",
       "      <td>apple</td>\n",
       "      <td>apple</td>\n",
       "    </tr>\n",
       "    <tr>\n",
       "      <th>2</th>\n",
       "      <td>Fokko</td>\n",
       "      <td>@tabular-io</td>\n",
       "      <td>fokko@driesprong.frl</td>\n",
       "      <td>2011-10-17T20:40:53Z</td>\n",
       "      <td>2023-03-09T09:16:21Z</td>\n",
       "      <td>tabular-io</td>\n",
       "      <td>driesprong.frl</td>\n",
       "      <td>tabular</td>\n",
       "      <td>tabular</td>\n",
       "    </tr>\n",
       "    <tr>\n",
       "      <th>3</th>\n",
       "      <td>nastra</td>\n",
       "      <td>@tabular-io</td>\n",
       "      <td>etudenhoefner@gmail.com</td>\n",
       "      <td>2010-05-08T08:58:58Z</td>\n",
       "      <td>2023-04-04T14:46:58Z</td>\n",
       "      <td>tabular-io</td>\n",
       "      <td>gmail.com</td>\n",
       "      <td>tabular</td>\n",
       "      <td>tabular</td>\n",
       "    </tr>\n",
       "    <tr>\n",
       "      <th>4</th>\n",
       "      <td>kbendick</td>\n",
       "      <td>@tabular-io</td>\n",
       "      <td>NaN</td>\n",
       "      <td>2014-11-19T00:02:08Z</td>\n",
       "      <td>2023-01-21T18:02:15Z</td>\n",
       "      <td>tabular-io</td>\n",
       "      <td>NaN</td>\n",
       "      <td>tabular</td>\n",
       "      <td>tabular</td>\n",
       "    </tr>\n",
       "  </tbody>\n",
       "</table>\n",
       "</div>"
      ],
      "text/plain": [
       "         login               company                    email  \\\n",
       "0       rdblue  Tabular, @tabular-io          blue@apache.org   \n",
       "1  aokolnychyi                 Apple   aokolnychyi@apache.org   \n",
       "2        Fokko           @tabular-io     fokko@driesprong.frl   \n",
       "3       nastra           @tabular-io  etudenhoefner@gmail.com   \n",
       "4     kbendick          @tabular-io                       NaN   \n",
       "\n",
       "             created_at            updated_at        company_clean  \\\n",
       "0  2009-05-23T22:01:55Z  2023-01-23T19:25:33Z  tabular, tabular-io   \n",
       "1  2013-12-21T10:19:19Z  2023-01-10T00:20:45Z                apple   \n",
       "2  2011-10-17T20:40:53Z  2023-03-09T09:16:21Z           tabular-io   \n",
       "3  2010-05-08T08:58:58Z  2023-04-04T14:46:58Z           tabular-io   \n",
       "4  2014-11-19T00:02:08Z  2023-01-21T18:02:15Z          tabular-io    \n",
       "\n",
       "     email_domain company_clean_2 company_clean_3  \n",
       "0      apache.org         tabular         tabular  \n",
       "1      apache.org           apple           apple  \n",
       "2  driesprong.frl         tabular         tabular  \n",
       "3       gmail.com         tabular         tabular  \n",
       "4             NaN         tabular         tabular  "
      ]
     },
     "execution_count": 20,
     "metadata": {},
     "output_type": "execute_result"
    }
   ],
   "source": [
    "## Update create company_clean column using clean values\n",
    "company_criteria, company_values = zip(*company_patterns)\n",
    "df_unique_profiles['company_clean_2'] = np.select(company_criteria, company_values, None)\n",
    "df_unique_profiles['company_clean'] = df_unique_profiles['company_clean'].replace({'@': ''}, regex=True)\n",
    "df_unique_profiles['company_clean_3'] = df_unique_profiles['company_clean_2'].combine_first(df_unique_profiles['company_clean'])\n",
    "df_unique_profiles['company_clean_3'].fillna('unknown', inplace=True)\n",
    "df_unique_profiles.head()"
   ]
  },
  {
   "cell_type": "markdown",
   "id": "94f64b18",
   "metadata": {},
   "source": [
    "# Analysis"
   ]
  },
  {
   "cell_type": "markdown",
   "id": "cfdf0ed2",
   "metadata": {},
   "source": [
    "## How many pull requests per project?"
   ]
  },
  {
   "cell_type": "code",
   "execution_count": 116,
   "id": "03c5c897",
   "metadata": {},
   "outputs": [
    {
     "name": "stderr",
     "output_type": "stream",
     "text": [
      "<ipython-input-116-281c31a24f0f>:2: SettingWithCopyWarning: \n",
      "A value is trying to be set on a copy of a slice from a DataFrame.\n",
      "Try using .loc[row_indexer,col_indexer] = value instead\n",
      "\n",
      "See the caveats in the documentation: https://pandas.pydata.org/pandas-docs/stable/user_guide/indexing.html#returning-a-view-versus-a-copy\n",
      "  df_pulls_by_project['created_at_date'] = pd.to_datetime(df_pulls_by_project['created_at'], format=\"%Y-%m-%dT%H:%M:%SZ\").dt.date\n"
     ]
    },
    {
     "data": {
      "text/html": [
       "<div>\n",
       "<style scoped>\n",
       "    .dataframe tbody tr th:only-of-type {\n",
       "        vertical-align: middle;\n",
       "    }\n",
       "\n",
       "    .dataframe tbody tr th {\n",
       "        vertical-align: top;\n",
       "    }\n",
       "\n",
       "    .dataframe thead th {\n",
       "        text-align: right;\n",
       "    }\n",
       "</style>\n",
       "<table border=\"1\" class=\"dataframe\">\n",
       "  <thead>\n",
       "    <tr style=\"text-align: right;\">\n",
       "      <th></th>\n",
       "      <th>created_at_date</th>\n",
       "      <th>project</th>\n",
       "      <th>pulls</th>\n",
       "    </tr>\n",
       "  </thead>\n",
       "  <tbody>\n",
       "    <tr>\n",
       "      <th>0</th>\n",
       "      <td>2016-12-17</td>\n",
       "      <td>hudi</td>\n",
       "      <td>1</td>\n",
       "    </tr>\n",
       "    <tr>\n",
       "      <th>1</th>\n",
       "      <td>2016-12-20</td>\n",
       "      <td>hudi</td>\n",
       "      <td>2</td>\n",
       "    </tr>\n",
       "    <tr>\n",
       "      <th>2</th>\n",
       "      <td>2016-12-21</td>\n",
       "      <td>hudi</td>\n",
       "      <td>1</td>\n",
       "    </tr>\n",
       "    <tr>\n",
       "      <th>3</th>\n",
       "      <td>2016-12-28</td>\n",
       "      <td>hudi</td>\n",
       "      <td>1</td>\n",
       "    </tr>\n",
       "    <tr>\n",
       "      <th>4</th>\n",
       "      <td>2016-12-29</td>\n",
       "      <td>hudi</td>\n",
       "      <td>1</td>\n",
       "    </tr>\n",
       "  </tbody>\n",
       "</table>\n",
       "</div>"
      ],
      "text/plain": [
       "  created_at_date project  pulls\n",
       "0      2016-12-17    hudi      1\n",
       "1      2016-12-20    hudi      2\n",
       "2      2016-12-21    hudi      1\n",
       "3      2016-12-28    hudi      1\n",
       "4      2016-12-29    hudi      1"
      ]
     },
     "execution_count": 116,
     "metadata": {},
     "output_type": "execute_result"
    }
   ],
   "source": [
    "df_pulls_by_project = df_pulls[['project', 'created_at']]\n",
    "df_pulls_by_project['created_at_date'] = pd.to_datetime(df_pulls_by_project['created_at'], format=\"%Y-%m-%dT%H:%M:%SZ\").dt.date\n",
    "df_pulls_by_project = df_pulls_by_project.groupby(['created_at_date', 'project'], as_index=False).size().rename(columns={'size':'pulls'})\n",
    "df_pulls_by_project = df_pulls_by_project.sort_values(by='created_at_date', ascending=True)\n",
    "df_pulls_by_project.head()"
   ]
  },
  {
   "cell_type": "code",
   "execution_count": 93,
   "id": "a4e491fb",
   "metadata": {},
   "outputs": [
    {
     "data": {
      "text/html": [
       "<div>\n",
       "<style scoped>\n",
       "    .dataframe tbody tr th:only-of-type {\n",
       "        vertical-align: middle;\n",
       "    }\n",
       "\n",
       "    .dataframe tbody tr th {\n",
       "        vertical-align: top;\n",
       "    }\n",
       "\n",
       "    .dataframe thead th {\n",
       "        text-align: right;\n",
       "    }\n",
       "</style>\n",
       "<table border=\"1\" class=\"dataframe\">\n",
       "  <thead>\n",
       "    <tr style=\"text-align: right;\">\n",
       "      <th></th>\n",
       "      <th>project</th>\n",
       "      <th>pulls</th>\n",
       "    </tr>\n",
       "  </thead>\n",
       "  <tbody>\n",
       "    <tr>\n",
       "      <th>0</th>\n",
       "      <td>delta</td>\n",
       "      <td>2395</td>\n",
       "    </tr>\n",
       "    <tr>\n",
       "      <th>1</th>\n",
       "      <td>hudi</td>\n",
       "      <td>6113</td>\n",
       "    </tr>\n",
       "    <tr>\n",
       "      <th>2</th>\n",
       "      <td>iceberg</td>\n",
       "      <td>5070</td>\n",
       "    </tr>\n",
       "  </tbody>\n",
       "</table>\n",
       "</div>"
      ],
      "text/plain": [
       "   project  pulls\n",
       "0    delta   2395\n",
       "1     hudi   6113\n",
       "2  iceberg   5070"
      ]
     },
     "execution_count": 93,
     "metadata": {},
     "output_type": "execute_result"
    }
   ],
   "source": [
    "#df_pulls_by_project_test = df_pulls_by_project.groupby(['project'], as_index=False).sum('pulls')\n",
    "#df_pulls_by_project_test.head()"
   ]
  },
  {
   "cell_type": "code",
   "execution_count": 117,
   "id": "8f264061",
   "metadata": {},
   "outputs": [],
   "source": [
    "df_pulls_delta = df_pulls_by_project[df_pulls_by_project['project'] == 'delta']\n",
    "df_pulls_iceberg = df_pulls_by_project[df_pulls_by_project['project'] == 'iceberg']\n",
    "df_pulls_hudi = df_pulls_by_project[df_pulls_by_project['project'] == 'hudi']"
   ]
  },
  {
   "cell_type": "code",
   "execution_count": 134,
   "id": "963061c2",
   "metadata": {},
   "outputs": [
    {
     "data": {
      "text/plain": [
       "False"
      ]
     },
     "execution_count": 134,
     "metadata": {},
     "output_type": "execute_result"
    }
   ],
   "source": [
    "df_pulls_all_dates = df_pulls_by_project.loc[:,['created_at_date']]\n",
    "df_pulls_all_dates = df_pulls_all_dates.drop_duplicates(subset='created_at_date', keep='first')\n",
    "df_pulls_all_dates['created_at_date'].duplicated(keep=False).any()"
   ]
  },
  {
   "cell_type": "code",
   "execution_count": 135,
   "id": "bf6c9718",
   "metadata": {},
   "outputs": [
    {
     "data": {
      "text/html": [
       "<div>\n",
       "<style scoped>\n",
       "    .dataframe tbody tr th:only-of-type {\n",
       "        vertical-align: middle;\n",
       "    }\n",
       "\n",
       "    .dataframe tbody tr th {\n",
       "        vertical-align: top;\n",
       "    }\n",
       "\n",
       "    .dataframe thead th {\n",
       "        text-align: right;\n",
       "    }\n",
       "</style>\n",
       "<table border=\"1\" class=\"dataframe\">\n",
       "  <thead>\n",
       "    <tr style=\"text-align: right;\">\n",
       "      <th></th>\n",
       "      <th>created_at_date</th>\n",
       "      <th>delta</th>\n",
       "      <th>iceberg</th>\n",
       "      <th>hudi</th>\n",
       "    </tr>\n",
       "  </thead>\n",
       "  <tbody>\n",
       "    <tr>\n",
       "      <th>0</th>\n",
       "      <td>2016-12-17</td>\n",
       "      <td>0.0</td>\n",
       "      <td>0.0</td>\n",
       "      <td>1.0</td>\n",
       "    </tr>\n",
       "    <tr>\n",
       "      <th>1</th>\n",
       "      <td>2016-12-20</td>\n",
       "      <td>0.0</td>\n",
       "      <td>0.0</td>\n",
       "      <td>2.0</td>\n",
       "    </tr>\n",
       "    <tr>\n",
       "      <th>2</th>\n",
       "      <td>2016-12-21</td>\n",
       "      <td>0.0</td>\n",
       "      <td>0.0</td>\n",
       "      <td>1.0</td>\n",
       "    </tr>\n",
       "    <tr>\n",
       "      <th>3</th>\n",
       "      <td>2016-12-28</td>\n",
       "      <td>0.0</td>\n",
       "      <td>0.0</td>\n",
       "      <td>1.0</td>\n",
       "    </tr>\n",
       "    <tr>\n",
       "      <th>4</th>\n",
       "      <td>2016-12-29</td>\n",
       "      <td>0.0</td>\n",
       "      <td>0.0</td>\n",
       "      <td>1.0</td>\n",
       "    </tr>\n",
       "  </tbody>\n",
       "</table>\n",
       "</div>"
      ],
      "text/plain": [
       "  created_at_date  delta  iceberg  hudi\n",
       "0      2016-12-17    0.0      0.0   1.0\n",
       "1      2016-12-20    0.0      0.0   2.0\n",
       "2      2016-12-21    0.0      0.0   1.0\n",
       "3      2016-12-28    0.0      0.0   1.0\n",
       "4      2016-12-29    0.0      0.0   1.0"
      ]
     },
     "execution_count": 135,
     "metadata": {},
     "output_type": "execute_result"
    }
   ],
   "source": [
    "df_pulls_all_dates = pd.merge(df_pulls_all_dates, df_pulls_delta, on='created_at_date', how='left').rename(columns={'pulls':'delta'})\n",
    "df_pulls_all_dates = pd.merge(df_pulls_all_dates, df_pulls_iceberg[['created_at_date','pulls']], on='created_at_date', how='left').rename(columns={'pulls':'iceberg'})\n",
    "df_pulls_all_dates = pd.merge(df_pulls_all_dates, df_pulls_hudi[['created_at_date','pulls']], on='created_at_date', how='left').rename(columns={'pulls':'hudi'})\n",
    "df_pulls_all_dates = df_pulls_all_dates.drop(labels='project', axis=1)\n",
    "df_pulls_all_dates = df_pulls_all_dates.fillna(0)\n",
    "df_pulls_all_dates.head()"
   ]
  },
  {
   "cell_type": "code",
   "execution_count": 160,
   "id": "ffe7ead4",
   "metadata": {},
   "outputs": [],
   "source": [
    "#df_pulls_all_dates['delta'].sum()\n",
    "#df_pulls_all_dates['iceberg'].sum()\n",
    "#df_pulls_all_dates['hudi'].sum()"
   ]
  },
  {
   "cell_type": "code",
   "execution_count": 138,
   "id": "92464e04",
   "metadata": {},
   "outputs": [
    {
     "data": {
      "text/html": [
       "<div>\n",
       "<style scoped>\n",
       "    .dataframe tbody tr th:only-of-type {\n",
       "        vertical-align: middle;\n",
       "    }\n",
       "\n",
       "    .dataframe tbody tr th {\n",
       "        vertical-align: top;\n",
       "    }\n",
       "\n",
       "    .dataframe thead th {\n",
       "        text-align: right;\n",
       "    }\n",
       "</style>\n",
       "<table border=\"1\" class=\"dataframe\">\n",
       "  <thead>\n",
       "    <tr style=\"text-align: right;\">\n",
       "      <th></th>\n",
       "      <th>created_at_date</th>\n",
       "      <th>delta</th>\n",
       "      <th>iceberg</th>\n",
       "      <th>hudi</th>\n",
       "      <th>delta_cumsum</th>\n",
       "      <th>iceberg_cumsum</th>\n",
       "      <th>hudi_cumsum</th>\n",
       "    </tr>\n",
       "  </thead>\n",
       "  <tbody>\n",
       "    <tr>\n",
       "      <th>1677</th>\n",
       "      <td>2023-04-04</td>\n",
       "      <td>4.0</td>\n",
       "      <td>1.0</td>\n",
       "      <td>7.0</td>\n",
       "      <td>2395.0</td>\n",
       "      <td>5070.0</td>\n",
       "      <td>6113.0</td>\n",
       "    </tr>\n",
       "    <tr>\n",
       "      <th>1676</th>\n",
       "      <td>2023-04-03</td>\n",
       "      <td>8.0</td>\n",
       "      <td>6.0</td>\n",
       "      <td>5.0</td>\n",
       "      <td>2391.0</td>\n",
       "      <td>5069.0</td>\n",
       "      <td>6106.0</td>\n",
       "    </tr>\n",
       "    <tr>\n",
       "      <th>1675</th>\n",
       "      <td>2023-04-02</td>\n",
       "      <td>0.0</td>\n",
       "      <td>4.0</td>\n",
       "      <td>6.0</td>\n",
       "      <td>2383.0</td>\n",
       "      <td>5063.0</td>\n",
       "      <td>6101.0</td>\n",
       "    </tr>\n",
       "    <tr>\n",
       "      <th>1674</th>\n",
       "      <td>2023-04-01</td>\n",
       "      <td>0.0</td>\n",
       "      <td>3.0</td>\n",
       "      <td>7.0</td>\n",
       "      <td>2383.0</td>\n",
       "      <td>5059.0</td>\n",
       "      <td>6095.0</td>\n",
       "    </tr>\n",
       "    <tr>\n",
       "      <th>1673</th>\n",
       "      <td>2023-03-31</td>\n",
       "      <td>0.0</td>\n",
       "      <td>11.0</td>\n",
       "      <td>9.0</td>\n",
       "      <td>2383.0</td>\n",
       "      <td>5056.0</td>\n",
       "      <td>6088.0</td>\n",
       "    </tr>\n",
       "  </tbody>\n",
       "</table>\n",
       "</div>"
      ],
      "text/plain": [
       "     created_at_date  delta  iceberg  hudi  delta_cumsum  iceberg_cumsum  \\\n",
       "1677      2023-04-04    4.0      1.0   7.0        2395.0          5070.0   \n",
       "1676      2023-04-03    8.0      6.0   5.0        2391.0          5069.0   \n",
       "1675      2023-04-02    0.0      4.0   6.0        2383.0          5063.0   \n",
       "1674      2023-04-01    0.0      3.0   7.0        2383.0          5059.0   \n",
       "1673      2023-03-31    0.0     11.0   9.0        2383.0          5056.0   \n",
       "\n",
       "      hudi_cumsum  \n",
       "1677       6113.0  \n",
       "1676       6106.0  \n",
       "1675       6101.0  \n",
       "1674       6095.0  \n",
       "1673       6088.0  "
      ]
     },
     "execution_count": 138,
     "metadata": {},
     "output_type": "execute_result"
    }
   ],
   "source": [
    "df_pulls_all_dates['delta_cumsum'] = df_pulls_all_dates['delta'].cumsum()\n",
    "df_pulls_all_dates['iceberg_cumsum'] = df_pulls_all_dates['iceberg'].cumsum()\n",
    "df_pulls_all_dates['hudi_cumsum'] = df_pulls_all_dates['hudi'].cumsum()\n",
    "df_pulls_all_dates = df_pulls_all_dates.sort_values(by='created_at_date', ascending=False)\n",
    "df_pulls_all_dates.head()"
   ]
  },
  {
   "cell_type": "code",
   "execution_count": 74,
   "id": "a6f0ded6",
   "metadata": {},
   "outputs": [],
   "source": [
    "#df_pulls_all_dates.to_csv(\"df_pulls_all_dates\", index=False)"
   ]
  },
  {
   "cell_type": "code",
   "execution_count": 139,
   "id": "200e8fcb",
   "metadata": {},
   "outputs": [
    {
     "data": {
      "image/png": "[encoded data removed]",
      "text/plain": [
       "<Figure size 432x288 with 1 Axes>"
      ]
     },
     "metadata": {
      "needs_background": "light"
     },
     "output_type": "display_data"
    }
   ],
   "source": [
    "df_pulls_all_dates.set_index('created_at_date', inplace=True)\n",
    "fig, ax = plt.subplots()\n",
    "ax.plot(df_pulls_all_dates['delta_cumsum'], color='red')\n",
    "ax.plot(df_pulls_all_dates['iceberg_cumsum'], color='blue')\n",
    "ax.set_xlabel('Date')\n",
    "ax.set_ylabel('Running Total Pull Requests')\n",
    "ax.set_title('Total Pull Requests by Project')\n",
    "plt.show()"
   ]
  },
  {
   "cell_type": "markdown",
   "id": "af10facb",
   "metadata": {},
   "source": [
    "## How many pull requests by company?"
   ]
  },
  {
   "cell_type": "code",
   "execution_count": 141,
   "id": "e120da40",
   "metadata": {},
   "outputs": [
    {
     "data": {
      "text/html": [
       "<div>\n",
       "<style scoped>\n",
       "    .dataframe tbody tr th:only-of-type {\n",
       "        vertical-align: middle;\n",
       "    }\n",
       "\n",
       "    .dataframe tbody tr th {\n",
       "        vertical-align: top;\n",
       "    }\n",
       "\n",
       "    .dataframe thead th {\n",
       "        text-align: right;\n",
       "    }\n",
       "</style>\n",
       "<table border=\"1\" class=\"dataframe\">\n",
       "  <thead>\n",
       "    <tr style=\"text-align: right;\">\n",
       "      <th></th>\n",
       "      <th>repo</th>\n",
       "      <th>id</th>\n",
       "      <th>number</th>\n",
       "      <th>state</th>\n",
       "      <th>login</th>\n",
       "      <th>created_at</th>\n",
       "      <th>updated_at</th>\n",
       "      <th>closed_at</th>\n",
       "      <th>merged_at</th>\n",
       "      <th>project</th>\n",
       "      <th>company_clean_3</th>\n",
       "    </tr>\n",
       "  </thead>\n",
       "  <tbody>\n",
       "    <tr>\n",
       "      <th>0</th>\n",
       "      <td>apache/iceberg</td>\n",
       "      <td>1312930537</td>\n",
       "      <td>7343</td>\n",
       "      <td>open</td>\n",
       "      <td>szehon-ho</td>\n",
       "      <td>2023-04-13T18:00:18Z</td>\n",
       "      <td>2023-04-13T18:00:34Z</td>\n",
       "      <td>None</td>\n",
       "      <td>None</td>\n",
       "      <td>iceberg</td>\n",
       "      <td>apple</td>\n",
       "    </tr>\n",
       "    <tr>\n",
       "      <th>1</th>\n",
       "      <td>apache/iceberg</td>\n",
       "      <td>1312808767</td>\n",
       "      <td>7342</td>\n",
       "      <td>open</td>\n",
       "      <td>dependabot[bot]</td>\n",
       "      <td>2023-04-13T16:35:58Z</td>\n",
       "      <td>2023-04-13T16:36:14Z</td>\n",
       "      <td>None</td>\n",
       "      <td>None</td>\n",
       "      <td>iceberg</td>\n",
       "      <td>unknown</td>\n",
       "    </tr>\n",
       "    <tr>\n",
       "      <th>2</th>\n",
       "      <td>apache/iceberg</td>\n",
       "      <td>1312751368</td>\n",
       "      <td>7341</td>\n",
       "      <td>closed</td>\n",
       "      <td>nastra</td>\n",
       "      <td>2023-04-13T15:51:41Z</td>\n",
       "      <td>2023-04-13T17:41:14Z</td>\n",
       "      <td>2023-04-13T17:38:08Z</td>\n",
       "      <td>2023-04-13T17:38:08Z</td>\n",
       "      <td>iceberg</td>\n",
       "      <td>tabular</td>\n",
       "    </tr>\n",
       "    <tr>\n",
       "      <th>3</th>\n",
       "      <td>apache/iceberg</td>\n",
       "      <td>1312457174</td>\n",
       "      <td>7339</td>\n",
       "      <td>open</td>\n",
       "      <td>nastra</td>\n",
       "      <td>2023-04-13T12:49:18Z</td>\n",
       "      <td>2023-04-13T17:43:18Z</td>\n",
       "      <td>None</td>\n",
       "      <td>None</td>\n",
       "      <td>iceberg</td>\n",
       "      <td>tabular</td>\n",
       "    </tr>\n",
       "    <tr>\n",
       "      <th>4</th>\n",
       "      <td>apache/iceberg</td>\n",
       "      <td>1312403475</td>\n",
       "      <td>7338</td>\n",
       "      <td>open</td>\n",
       "      <td>chenjunjiedada</td>\n",
       "      <td>2023-04-13T12:11:36Z</td>\n",
       "      <td>2023-04-13T14:53:51Z</td>\n",
       "      <td>None</td>\n",
       "      <td>None</td>\n",
       "      <td>iceberg</td>\n",
       "      <td>amazon</td>\n",
       "    </tr>\n",
       "  </tbody>\n",
       "</table>\n",
       "</div>"
      ],
      "text/plain": [
       "             repo          id  number   state            login  \\\n",
       "0  apache/iceberg  1312930537    7343    open        szehon-ho   \n",
       "1  apache/iceberg  1312808767    7342    open  dependabot[bot]   \n",
       "2  apache/iceberg  1312751368    7341  closed           nastra   \n",
       "3  apache/iceberg  1312457174    7339    open           nastra   \n",
       "4  apache/iceberg  1312403475    7338    open   chenjunjiedada   \n",
       "\n",
       "             created_at            updated_at             closed_at  \\\n",
       "0  2023-04-13T18:00:18Z  2023-04-13T18:00:34Z                  None   \n",
       "1  2023-04-13T16:35:58Z  2023-04-13T16:36:14Z                  None   \n",
       "2  2023-04-13T15:51:41Z  2023-04-13T17:41:14Z  2023-04-13T17:38:08Z   \n",
       "3  2023-04-13T12:49:18Z  2023-04-13T17:43:18Z                  None   \n",
       "4  2023-04-13T12:11:36Z  2023-04-13T14:53:51Z                  None   \n",
       "\n",
       "              merged_at  project company_clean_3  \n",
       "0                  None  iceberg           apple  \n",
       "1                  None  iceberg         unknown  \n",
       "2  2023-04-13T17:38:08Z  iceberg         tabular  \n",
       "3                  None  iceberg         tabular  \n",
       "4                  None  iceberg          amazon  "
      ]
     },
     "execution_count": 141,
     "metadata": {},
     "output_type": "execute_result"
    }
   ],
   "source": [
    "df_pulls_profiles = pd.merge(df_pulls, df_unique_profiles[['company_clean_3','login']], on='login', how='left')\n",
    "df_pulls_profiles['company_clean_3'].fillna('unknown', inplace=True)\n",
    "df_pulls_profiles.head()"
   ]
  },
  {
   "cell_type": "code",
   "execution_count": 142,
   "id": "bd4e7120",
   "metadata": {},
   "outputs": [
    {
     "data": {
      "text/html": [
       "<div>\n",
       "<style scoped>\n",
       "    .dataframe tbody tr th:only-of-type {\n",
       "        vertical-align: middle;\n",
       "    }\n",
       "\n",
       "    .dataframe tbody tr th {\n",
       "        vertical-align: top;\n",
       "    }\n",
       "\n",
       "    .dataframe thead th {\n",
       "        text-align: right;\n",
       "    }\n",
       "</style>\n",
       "<table border=\"1\" class=\"dataframe\">\n",
       "  <thead>\n",
       "    <tr style=\"text-align: right;\">\n",
       "      <th></th>\n",
       "      <th>project</th>\n",
       "      <th>company_clean_3</th>\n",
       "      <th>company_pulls</th>\n",
       "    </tr>\n",
       "  </thead>\n",
       "  <tbody>\n",
       "    <tr>\n",
       "      <th>152</th>\n",
       "      <td>hudi</td>\n",
       "      <td>unknown</td>\n",
       "      <td>3227</td>\n",
       "    </tr>\n",
       "    <tr>\n",
       "      <th>238</th>\n",
       "      <td>iceberg</td>\n",
       "      <td>unknown</td>\n",
       "      <td>1518</td>\n",
       "    </tr>\n",
       "    <tr>\n",
       "      <th>69</th>\n",
       "      <td>delta</td>\n",
       "      <td>unknown</td>\n",
       "      <td>1370</td>\n",
       "    </tr>\n",
       "    <tr>\n",
       "      <th>228</th>\n",
       "      <td>iceberg</td>\n",
       "      <td>tabular</td>\n",
       "      <td>1318</td>\n",
       "    </tr>\n",
       "    <tr>\n",
       "      <th>130</th>\n",
       "      <td>hudi</td>\n",
       "      <td>onehouse</td>\n",
       "      <td>834</td>\n",
       "    </tr>\n",
       "  </tbody>\n",
       "</table>\n",
       "</div>"
      ],
      "text/plain": [
       "     project company_clean_3  company_pulls\n",
       "152     hudi         unknown           3227\n",
       "238  iceberg         unknown           1518\n",
       "69     delta         unknown           1370\n",
       "228  iceberg         tabular           1318\n",
       "130     hudi        onehouse            834"
      ]
     },
     "execution_count": 142,
     "metadata": {},
     "output_type": "execute_result"
    }
   ],
   "source": [
    "df_pulls_by_company = df_pulls_profiles[['project','company_clean_3']].groupby(['project','company_clean_3'], as_index=False, dropna=False).size().rename(columns={'size':'company_pulls'})\n",
    "df_pulls_by_company.sort_values(by='company_pulls', ascending=False).head()"
   ]
  },
  {
   "cell_type": "code",
   "execution_count": 144,
   "id": "09dbee67",
   "metadata": {},
   "outputs": [
    {
     "data": {
      "text/html": [
       "<div>\n",
       "<style scoped>\n",
       "    .dataframe tbody tr th:only-of-type {\n",
       "        vertical-align: middle;\n",
       "    }\n",
       "\n",
       "    .dataframe tbody tr th {\n",
       "        vertical-align: top;\n",
       "    }\n",
       "\n",
       "    .dataframe thead th {\n",
       "        text-align: right;\n",
       "    }\n",
       "</style>\n",
       "<table border=\"1\" class=\"dataframe\">\n",
       "  <thead>\n",
       "    <tr style=\"text-align: right;\">\n",
       "      <th></th>\n",
       "      <th>project</th>\n",
       "      <th>project_pulls</th>\n",
       "    </tr>\n",
       "  </thead>\n",
       "  <tbody>\n",
       "    <tr>\n",
       "      <th>1</th>\n",
       "      <td>hudi</td>\n",
       "      <td>6164</td>\n",
       "    </tr>\n",
       "    <tr>\n",
       "      <th>2</th>\n",
       "      <td>iceberg</td>\n",
       "      <td>5103</td>\n",
       "    </tr>\n",
       "    <tr>\n",
       "      <th>0</th>\n",
       "      <td>delta</td>\n",
       "      <td>2436</td>\n",
       "    </tr>\n",
       "  </tbody>\n",
       "</table>\n",
       "</div>"
      ],
      "text/plain": [
       "   project  project_pulls\n",
       "1     hudi           6164\n",
       "2  iceberg           5103\n",
       "0    delta           2436"
      ]
     },
     "execution_count": 144,
     "metadata": {},
     "output_type": "execute_result"
    }
   ],
   "source": [
    "df_pulls_by_project = df_pulls_profiles[['project']].groupby(['project'], as_index=False).size().rename(columns={'size':'project_pulls'})\n",
    "df_pulls_by_project.sort_values(by='project_pulls', ascending=False).head()"
   ]
  },
  {
   "cell_type": "code",
   "execution_count": 145,
   "id": "545e5d34",
   "metadata": {},
   "outputs": [
    {
     "data": {
      "text/html": [
       "<div>\n",
       "<style scoped>\n",
       "    .dataframe tbody tr th:only-of-type {\n",
       "        vertical-align: middle;\n",
       "    }\n",
       "\n",
       "    .dataframe tbody tr th {\n",
       "        vertical-align: top;\n",
       "    }\n",
       "\n",
       "    .dataframe thead th {\n",
       "        text-align: right;\n",
       "    }\n",
       "</style>\n",
       "<table border=\"1\" class=\"dataframe\">\n",
       "  <thead>\n",
       "    <tr style=\"text-align: right;\">\n",
       "      <th></th>\n",
       "      <th>project</th>\n",
       "      <th>company_clean_3</th>\n",
       "      <th>company_pulls</th>\n",
       "      <th>project_pulls</th>\n",
       "      <th>company_pct_project_pulls</th>\n",
       "    </tr>\n",
       "  </thead>\n",
       "  <tbody>\n",
       "    <tr>\n",
       "      <th>69</th>\n",
       "      <td>delta</td>\n",
       "      <td>unknown</td>\n",
       "      <td>1370</td>\n",
       "      <td>2436</td>\n",
       "      <td>56.239737</td>\n",
       "    </tr>\n",
       "    <tr>\n",
       "      <th>152</th>\n",
       "      <td>hudi</td>\n",
       "      <td>unknown</td>\n",
       "      <td>3227</td>\n",
       "      <td>6164</td>\n",
       "      <td>52.352369</td>\n",
       "    </tr>\n",
       "    <tr>\n",
       "      <th>238</th>\n",
       "      <td>iceberg</td>\n",
       "      <td>unknown</td>\n",
       "      <td>1518</td>\n",
       "      <td>5103</td>\n",
       "      <td>29.747208</td>\n",
       "    </tr>\n",
       "    <tr>\n",
       "      <th>228</th>\n",
       "      <td>iceberg</td>\n",
       "      <td>tabular</td>\n",
       "      <td>1318</td>\n",
       "      <td>5103</td>\n",
       "      <td>25.827944</td>\n",
       "    </tr>\n",
       "    <tr>\n",
       "      <th>22</th>\n",
       "      <td>delta</td>\n",
       "      <td>databricks</td>\n",
       "      <td>610</td>\n",
       "      <td>2436</td>\n",
       "      <td>25.041051</td>\n",
       "    </tr>\n",
       "  </tbody>\n",
       "</table>\n",
       "</div>"
      ],
      "text/plain": [
       "     project company_clean_3  company_pulls  project_pulls  \\\n",
       "69     delta         unknown           1370           2436   \n",
       "152     hudi         unknown           3227           6164   \n",
       "238  iceberg         unknown           1518           5103   \n",
       "228  iceberg         tabular           1318           5103   \n",
       "22     delta      databricks            610           2436   \n",
       "\n",
       "     company_pct_project_pulls  \n",
       "69                   56.239737  \n",
       "152                  52.352369  \n",
       "238                  29.747208  \n",
       "228                  25.827944  \n",
       "22                   25.041051  "
      ]
     },
     "execution_count": 145,
     "metadata": {},
     "output_type": "execute_result"
    }
   ],
   "source": [
    "df_pulls_by_company = pd.merge(df_pulls_by_company,df_pulls_by_project, on='project', how='left')\n",
    "df_pulls_by_company[['company_pct_project_pulls']] = 100*(df_pulls_by_company['company_pulls']/df_pulls_by_company['project_pulls'])\n",
    "df_pulls_by_company.sort_values(by='company_pct_project_pulls', ascending=False).head()"
   ]
  },
  {
   "cell_type": "code",
   "execution_count": 146,
   "id": "eba3da3e",
   "metadata": {},
   "outputs": [],
   "source": [
    "df_pulls_by_company_delta = df_pulls_by_company[df_pulls_by_company['project'] == 'delta'].sort_values(by='company_pct_project_pulls', ascending=False)\n",
    "df_pulls_by_company_iceberg = df_pulls_by_company[df_pulls_by_company['project'] == 'iceberg'].sort_values(by='company_pct_project_pulls', ascending=False)\n",
    "df_pulls_by_company_hudi = df_pulls_by_company[df_pulls_by_company['project'] == 'hudi'].sort_values(by='company_pct_project_pulls', ascending=False)"
   ]
  },
  {
   "cell_type": "code",
   "execution_count": 148,
   "id": "8af0dbc0",
   "metadata": {},
   "outputs": [
    {
     "data": {
      "image/png": "[encoded data removed]",
      "text/plain": [
       "<Figure size 432x288 with 1 Axes>"
      ]
     },
     "metadata": {
      "needs_background": "light"
     },
     "output_type": "display_data"
    }
   ],
   "source": [
    "plt.barh(df_pulls_by_company_delta['company_clean_3'].head(10), df_pulls_by_company_delta['company_pct_project_pulls'].head(10), color = \"red\")\n",
    "plt.xlabel(\"Percent of pulls\") \n",
    "plt.ylabel(\"Company\") \n",
    "plt.title(\"% of Unique Project pulls by Company\")\n",
    "plt.show()"
   ]
  },
  {
   "cell_type": "code",
   "execution_count": 149,
   "id": "41e06d9e",
   "metadata": {},
   "outputs": [
    {
     "data": {
      "image/png": "[encoded data removed]",
      "text/plain": [
       "<Figure size 432x288 with 1 Axes>"
      ]
     },
     "metadata": {
      "needs_background": "light"
     },
     "output_type": "display_data"
    }
   ],
   "source": [
    "plt.barh(df_pulls_by_company_iceberg['company_clean_3'].head(10), df_pulls_by_company_iceberg['company_pct_project_pulls'].head(10), color = \"blue\")\n",
    "plt.xlabel(\"Percent of pulls\") \n",
    "plt.ylabel(\"Company\") \n",
    "plt.title(\"% of Unique Project pulls by Company\")\n",
    "plt.show()"
   ]
  },
  {
   "cell_type": "markdown",
   "id": "80faacdf",
   "metadata": {},
   "source": [
    "## How many unique pull requesters by company?"
   ]
  },
  {
   "cell_type": "code",
   "execution_count": 150,
   "id": "59c41b51",
   "metadata": {},
   "outputs": [
    {
     "data": {
      "text/html": [
       "<div>\n",
       "<style scoped>\n",
       "    .dataframe tbody tr th:only-of-type {\n",
       "        vertical-align: middle;\n",
       "    }\n",
       "\n",
       "    .dataframe tbody tr th {\n",
       "        vertical-align: top;\n",
       "    }\n",
       "\n",
       "    .dataframe thead th {\n",
       "        text-align: right;\n",
       "    }\n",
       "</style>\n",
       "<table border=\"1\" class=\"dataframe\">\n",
       "  <thead>\n",
       "    <tr style=\"text-align: right;\">\n",
       "      <th></th>\n",
       "      <th>login</th>\n",
       "      <th>project</th>\n",
       "      <th>company_clean_3</th>\n",
       "    </tr>\n",
       "  </thead>\n",
       "  <tbody>\n",
       "    <tr>\n",
       "      <th>0</th>\n",
       "      <td>szehon-ho</td>\n",
       "      <td>iceberg</td>\n",
       "      <td>apple</td>\n",
       "    </tr>\n",
       "    <tr>\n",
       "      <th>1</th>\n",
       "      <td>dependabot[bot]</td>\n",
       "      <td>iceberg</td>\n",
       "      <td>unknown</td>\n",
       "    </tr>\n",
       "    <tr>\n",
       "      <th>2</th>\n",
       "      <td>nastra</td>\n",
       "      <td>iceberg</td>\n",
       "      <td>tabular</td>\n",
       "    </tr>\n",
       "    <tr>\n",
       "      <th>3</th>\n",
       "      <td>chenjunjiedada</td>\n",
       "      <td>iceberg</td>\n",
       "      <td>amazon</td>\n",
       "    </tr>\n",
       "    <tr>\n",
       "      <th>4</th>\n",
       "      <td>ajantha-bhat</td>\n",
       "      <td>iceberg</td>\n",
       "      <td>dremio</td>\n",
       "    </tr>\n",
       "  </tbody>\n",
       "</table>\n",
       "</div>"
      ],
      "text/plain": [
       "             login  project company_clean_3\n",
       "0        szehon-ho  iceberg           apple\n",
       "1  dependabot[bot]  iceberg         unknown\n",
       "2           nastra  iceberg         tabular\n",
       "3   chenjunjiedada  iceberg          amazon\n",
       "4     ajantha-bhat  iceberg          dremio"
      ]
     },
     "execution_count": 150,
     "metadata": {},
     "output_type": "execute_result"
    }
   ],
   "source": [
    "df_unique_pullers = df_pulls[['login','project']].drop_duplicates(subset='login', keep='first')\n",
    "df_unique_pullers_profiles = pd.merge(df_unique_pullers, df_unique_profiles[['company_clean_3','login']], on='login', how='left')\n",
    "df_pulls_profiles['company_clean_3'].fillna('unknown', inplace=True)\n",
    "df_unique_pullers_profiles.head()"
   ]
  },
  {
   "cell_type": "code",
   "execution_count": 151,
   "id": "10d75023",
   "metadata": {},
   "outputs": [
    {
     "data": {
      "text/html": [
       "<div>\n",
       "<style scoped>\n",
       "    .dataframe tbody tr th:only-of-type {\n",
       "        vertical-align: middle;\n",
       "    }\n",
       "\n",
       "    .dataframe tbody tr th {\n",
       "        vertical-align: top;\n",
       "    }\n",
       "\n",
       "    .dataframe thead th {\n",
       "        text-align: right;\n",
       "    }\n",
       "</style>\n",
       "<table border=\"1\" class=\"dataframe\">\n",
       "  <thead>\n",
       "    <tr style=\"text-align: right;\">\n",
       "      <th></th>\n",
       "      <th>project</th>\n",
       "      <th>company_clean_3</th>\n",
       "      <th>company_pullers</th>\n",
       "    </tr>\n",
       "  </thead>\n",
       "  <tbody>\n",
       "    <tr>\n",
       "      <th>136</th>\n",
       "      <td>hudi</td>\n",
       "      <td>unknown</td>\n",
       "      <td>219</td>\n",
       "    </tr>\n",
       "    <tr>\n",
       "      <th>222</th>\n",
       "      <td>iceberg</td>\n",
       "      <td>unknown</td>\n",
       "      <td>162</td>\n",
       "    </tr>\n",
       "    <tr>\n",
       "      <th>61</th>\n",
       "      <td>delta</td>\n",
       "      <td>unknown</td>\n",
       "      <td>113</td>\n",
       "    </tr>\n",
       "    <tr>\n",
       "      <th>20</th>\n",
       "      <td>delta</td>\n",
       "      <td>databricks</td>\n",
       "      <td>35</td>\n",
       "    </tr>\n",
       "    <tr>\n",
       "      <th>147</th>\n",
       "      <td>iceberg</td>\n",
       "      <td>amazon</td>\n",
       "      <td>26</td>\n",
       "    </tr>\n",
       "  </tbody>\n",
       "</table>\n",
       "</div>"
      ],
      "text/plain": [
       "     project company_clean_3  company_pullers\n",
       "136     hudi         unknown              219\n",
       "222  iceberg         unknown              162\n",
       "61     delta         unknown              113\n",
       "20     delta      databricks               35\n",
       "147  iceberg          amazon               26"
      ]
     },
     "execution_count": 151,
     "metadata": {},
     "output_type": "execute_result"
    }
   ],
   "source": [
    "df_pullers_by_company = df_unique_pullers_profiles[['project','company_clean_3']].groupby(['project','company_clean_3'], as_index=False).size().rename(columns={'size':'company_pullers'})\n",
    "df_pullers_by_company.sort_values(by='company_pullers', ascending=False).head()"
   ]
  },
  {
   "cell_type": "code",
   "execution_count": 152,
   "id": "251a9c73",
   "metadata": {},
   "outputs": [
    {
     "data": {
      "text/html": [
       "<div>\n",
       "<style scoped>\n",
       "    .dataframe tbody tr th:only-of-type {\n",
       "        vertical-align: middle;\n",
       "    }\n",
       "\n",
       "    .dataframe tbody tr th {\n",
       "        vertical-align: top;\n",
       "    }\n",
       "\n",
       "    .dataframe thead th {\n",
       "        text-align: right;\n",
       "    }\n",
       "</style>\n",
       "<table border=\"1\" class=\"dataframe\">\n",
       "  <thead>\n",
       "    <tr style=\"text-align: right;\">\n",
       "      <th></th>\n",
       "      <th>project</th>\n",
       "      <th>project_pullers</th>\n",
       "    </tr>\n",
       "  </thead>\n",
       "  <tbody>\n",
       "    <tr>\n",
       "      <th>1</th>\n",
       "      <td>hudi</td>\n",
       "      <td>457</td>\n",
       "    </tr>\n",
       "    <tr>\n",
       "      <th>2</th>\n",
       "      <td>iceberg</td>\n",
       "      <td>448</td>\n",
       "    </tr>\n",
       "    <tr>\n",
       "      <th>0</th>\n",
       "      <td>delta</td>\n",
       "      <td>306</td>\n",
       "    </tr>\n",
       "  </tbody>\n",
       "</table>\n",
       "</div>"
      ],
      "text/plain": [
       "   project  project_pullers\n",
       "1     hudi              457\n",
       "2  iceberg              448\n",
       "0    delta              306"
      ]
     },
     "execution_count": 152,
     "metadata": {},
     "output_type": "execute_result"
    }
   ],
   "source": [
    "df_pullers_by_project = df_unique_pullers_profiles[['project']].groupby(['project'], as_index=False).size().rename(columns={'size':'project_pullers'})\n",
    "df_pullers_by_project.sort_values(by='project_pullers', ascending=False).head()"
   ]
  },
  {
   "cell_type": "code",
   "execution_count": 153,
   "id": "c92cf5ad",
   "metadata": {},
   "outputs": [
    {
     "data": {
      "text/html": [
       "<div>\n",
       "<style scoped>\n",
       "    .dataframe tbody tr th:only-of-type {\n",
       "        vertical-align: middle;\n",
       "    }\n",
       "\n",
       "    .dataframe tbody tr th {\n",
       "        vertical-align: top;\n",
       "    }\n",
       "\n",
       "    .dataframe thead th {\n",
       "        text-align: right;\n",
       "    }\n",
       "</style>\n",
       "<table border=\"1\" class=\"dataframe\">\n",
       "  <thead>\n",
       "    <tr style=\"text-align: right;\">\n",
       "      <th></th>\n",
       "      <th>project</th>\n",
       "      <th>company_clean_3</th>\n",
       "      <th>company_pullers</th>\n",
       "      <th>project_pullers</th>\n",
       "      <th>company_pct_project_pullers</th>\n",
       "    </tr>\n",
       "  </thead>\n",
       "  <tbody>\n",
       "    <tr>\n",
       "      <th>136</th>\n",
       "      <td>hudi</td>\n",
       "      <td>unknown</td>\n",
       "      <td>219</td>\n",
       "      <td>457</td>\n",
       "      <td>47.921225</td>\n",
       "    </tr>\n",
       "    <tr>\n",
       "      <th>61</th>\n",
       "      <td>delta</td>\n",
       "      <td>unknown</td>\n",
       "      <td>113</td>\n",
       "      <td>306</td>\n",
       "      <td>36.928105</td>\n",
       "    </tr>\n",
       "    <tr>\n",
       "      <th>222</th>\n",
       "      <td>iceberg</td>\n",
       "      <td>unknown</td>\n",
       "      <td>162</td>\n",
       "      <td>448</td>\n",
       "      <td>36.160714</td>\n",
       "    </tr>\n",
       "    <tr>\n",
       "      <th>20</th>\n",
       "      <td>delta</td>\n",
       "      <td>databricks</td>\n",
       "      <td>35</td>\n",
       "      <td>306</td>\n",
       "      <td>11.437908</td>\n",
       "    </tr>\n",
       "    <tr>\n",
       "      <th>147</th>\n",
       "      <td>iceberg</td>\n",
       "      <td>amazon</td>\n",
       "      <td>26</td>\n",
       "      <td>448</td>\n",
       "      <td>5.803571</td>\n",
       "    </tr>\n",
       "  </tbody>\n",
       "</table>\n",
       "</div>"
      ],
      "text/plain": [
       "     project company_clean_3  company_pullers  project_pullers  \\\n",
       "136     hudi         unknown              219              457   \n",
       "61     delta         unknown              113              306   \n",
       "222  iceberg         unknown              162              448   \n",
       "20     delta      databricks               35              306   \n",
       "147  iceberg          amazon               26              448   \n",
       "\n",
       "     company_pct_project_pullers  \n",
       "136                    47.921225  \n",
       "61                     36.928105  \n",
       "222                    36.160714  \n",
       "20                     11.437908  \n",
       "147                     5.803571  "
      ]
     },
     "execution_count": 153,
     "metadata": {},
     "output_type": "execute_result"
    }
   ],
   "source": [
    "df_pullers_by_company = pd.merge(df_pullers_by_company,df_pullers_by_project, on='project', how='left')\n",
    "df_pullers_by_company[['company_pct_project_pullers']] = 100*(df_pullers_by_company['company_pullers']/df_pullers_by_company['project_pullers'])\n",
    "df_pullers_by_company.sort_values(by='company_pct_project_pullers', ascending=False).head()"
   ]
  },
  {
   "cell_type": "code",
   "execution_count": 154,
   "id": "f53cff1c",
   "metadata": {},
   "outputs": [],
   "source": [
    "df_pullers_by_company_delta = df_pullers_by_company[df_pullers_by_company['project'] == 'delta'].sort_values(by='company_pct_project_pullers', ascending=False)\n",
    "df_pullers_by_company_iceberg = df_pullers_by_company[df_pullers_by_company['project'] == 'iceberg'].sort_values(by='company_pct_project_pullers', ascending=False)\n",
    "df_pullers_by_company_hudi = df_pullers_by_company[df_pullers_by_company['project'] == 'hudi'].sort_values(by='company_pct_project_pullers', ascending=False)"
   ]
  },
  {
   "cell_type": "code",
   "execution_count": 155,
   "id": "c39ae1a3",
   "metadata": {},
   "outputs": [
    {
     "data": {
      "image/png": "[encoded data removed]",
      "text/plain": [
       "<Figure size 432x288 with 1 Axes>"
      ]
     },
     "metadata": {
      "needs_background": "light"
     },
     "output_type": "display_data"
    }
   ],
   "source": [
    "plt.barh(df_pullers_by_company_delta['company_clean_3'].head(10), df_pullers_by_company_delta['company_pct_project_pullers'].head(10), color = \"red\")\n",
    "plt.xlabel(\"Percent of pullers\") \n",
    "plt.ylabel(\"Company\") \n",
    "plt.title(\"% of Unique Project pullers by Company\")\n",
    "plt.show()"
   ]
  },
  {
   "cell_type": "code",
   "execution_count": 156,
   "id": "712c20d3",
   "metadata": {},
   "outputs": [
    {
     "data": {
      "image/png": "[encoded data removed]",
      "text/plain": [
       "<Figure size 432x288 with 1 Axes>"
      ]
     },
     "metadata": {
      "needs_background": "light"
     },
     "output_type": "display_data"
    }
   ],
   "source": [
    "plt.barh(df_pullers_by_company_iceberg['company_clean_3'].head(10), df_pullers_by_company_iceberg['company_pct_project_pullers'].head(10), color = \"blue\")\n",
    "plt.xlabel(\"Percent of pullers\") \n",
    "plt.ylabel(\"Company\") \n",
    "plt.title(\"% of Unique Project pullers by Company\")\n",
    "plt.show()"
   ]
  },
  {
   "cell_type": "markdown",
   "id": "d3162ca3",
   "metadata": {},
   "source": [
    "## How many commits by company?"
   ]
  },
  {
   "cell_type": "code",
   "execution_count": 157,
   "id": "0f4a2bfb",
   "metadata": {},
   "outputs": [
    {
     "data": {
      "text/html": [
       "<div>\n",
       "<style scoped>\n",
       "    .dataframe tbody tr th:only-of-type {\n",
       "        vertical-align: middle;\n",
       "    }\n",
       "\n",
       "    .dataframe tbody tr th {\n",
       "        vertical-align: top;\n",
       "    }\n",
       "\n",
       "    .dataframe thead th {\n",
       "        text-align: right;\n",
       "    }\n",
       "</style>\n",
       "<table border=\"1\" class=\"dataframe\">\n",
       "  <thead>\n",
       "    <tr style=\"text-align: right;\">\n",
       "      <th></th>\n",
       "      <th>repo</th>\n",
       "      <th>created_at</th>\n",
       "      <th>login</th>\n",
       "      <th>project</th>\n",
       "      <th>company_clean_3</th>\n",
       "    </tr>\n",
       "  </thead>\n",
       "  <tbody>\n",
       "    <tr>\n",
       "      <th>0</th>\n",
       "      <td>apache/iceberg</td>\n",
       "      <td>2023-04-13T19:00:55Z</td>\n",
       "      <td>gustavoatt</td>\n",
       "      <td>iceberg</td>\n",
       "      <td>unknown</td>\n",
       "    </tr>\n",
       "    <tr>\n",
       "      <th>1</th>\n",
       "      <td>apache/iceberg</td>\n",
       "      <td>2023-04-13T18:16:25Z</td>\n",
       "      <td>aokolnychyi</td>\n",
       "      <td>iceberg</td>\n",
       "      <td>apple</td>\n",
       "    </tr>\n",
       "    <tr>\n",
       "      <th>2</th>\n",
       "      <td>apache/iceberg</td>\n",
       "      <td>2023-04-13T17:38:08Z</td>\n",
       "      <td>nastra</td>\n",
       "      <td>iceberg</td>\n",
       "      <td>tabular</td>\n",
       "    </tr>\n",
       "    <tr>\n",
       "      <th>3</th>\n",
       "      <td>apache/iceberg</td>\n",
       "      <td>2023-04-13T17:31:25Z</td>\n",
       "      <td>gaborkaszab</td>\n",
       "      <td>iceberg</td>\n",
       "      <td>unknown</td>\n",
       "    </tr>\n",
       "    <tr>\n",
       "      <th>4</th>\n",
       "      <td>apache/iceberg</td>\n",
       "      <td>2023-04-13T16:34:42Z</td>\n",
       "      <td>ajantha-bhat</td>\n",
       "      <td>iceberg</td>\n",
       "      <td>dremio</td>\n",
       "    </tr>\n",
       "  </tbody>\n",
       "</table>\n",
       "</div>"
      ],
      "text/plain": [
       "             repo            created_at         login  project company_clean_3\n",
       "0  apache/iceberg  2023-04-13T19:00:55Z    gustavoatt  iceberg         unknown\n",
       "1  apache/iceberg  2023-04-13T18:16:25Z   aokolnychyi  iceberg           apple\n",
       "2  apache/iceberg  2023-04-13T17:38:08Z        nastra  iceberg         tabular\n",
       "3  apache/iceberg  2023-04-13T17:31:25Z   gaborkaszab  iceberg         unknown\n",
       "4  apache/iceberg  2023-04-13T16:34:42Z  ajantha-bhat  iceberg          dremio"
      ]
     },
     "execution_count": 157,
     "metadata": {},
     "output_type": "execute_result"
    }
   ],
   "source": [
    "df_commits_profiles = pd.merge(df_commits, df_unique_profiles[['company_clean_3','login']], on='login', how='left')\n",
    "df_commits_profiles['company_clean_3'].fillna('unknown', inplace=True)\n",
    "df_commits_profiles.head()"
   ]
  },
  {
   "cell_type": "code",
   "execution_count": 158,
   "id": "dc6e0d74",
   "metadata": {},
   "outputs": [
    {
     "data": {
      "text/html": [
       "<div>\n",
       "<style scoped>\n",
       "    .dataframe tbody tr th:only-of-type {\n",
       "        vertical-align: middle;\n",
       "    }\n",
       "\n",
       "    .dataframe tbody tr th {\n",
       "        vertical-align: top;\n",
       "    }\n",
       "\n",
       "    .dataframe thead th {\n",
       "        text-align: right;\n",
       "    }\n",
       "</style>\n",
       "<table border=\"1\" class=\"dataframe\">\n",
       "  <thead>\n",
       "    <tr style=\"text-align: right;\">\n",
       "      <th></th>\n",
       "      <th>project</th>\n",
       "      <th>company_clean_3</th>\n",
       "      <th>company_commits</th>\n",
       "    </tr>\n",
       "  </thead>\n",
       "  <tbody>\n",
       "    <tr>\n",
       "      <th>150</th>\n",
       "      <td>hudi</td>\n",
       "      <td>unknown</td>\n",
       "      <td>1895</td>\n",
       "    </tr>\n",
       "    <tr>\n",
       "      <th>68</th>\n",
       "      <td>delta</td>\n",
       "      <td>unknown</td>\n",
       "      <td>1736</td>\n",
       "    </tr>\n",
       "    <tr>\n",
       "      <th>23</th>\n",
       "      <td>delta</td>\n",
       "      <td>databricks</td>\n",
       "      <td>1417</td>\n",
       "    </tr>\n",
       "    <tr>\n",
       "      <th>229</th>\n",
       "      <td>iceberg</td>\n",
       "      <td>tabular</td>\n",
       "      <td>1372</td>\n",
       "    </tr>\n",
       "    <tr>\n",
       "      <th>239</th>\n",
       "      <td>iceberg</td>\n",
       "      <td>unknown</td>\n",
       "      <td>1032</td>\n",
       "    </tr>\n",
       "  </tbody>\n",
       "</table>\n",
       "</div>"
      ],
      "text/plain": [
       "     project company_clean_3  company_commits\n",
       "150     hudi         unknown             1895\n",
       "68     delta         unknown             1736\n",
       "23     delta      databricks             1417\n",
       "229  iceberg         tabular             1372\n",
       "239  iceberg         unknown             1032"
      ]
     },
     "execution_count": 158,
     "metadata": {},
     "output_type": "execute_result"
    }
   ],
   "source": [
    "df_commits_by_company = df_commits_profiles[['project','company_clean_3']].groupby(['project','company_clean_3'], as_index=False, dropna=False).size().rename(columns={'size':'company_commits'})\n",
    "df_commits_by_company.sort_values(by='company_commits', ascending=False).head()"
   ]
  },
  {
   "cell_type": "code",
   "execution_count": 159,
   "id": "e9eb072e",
   "metadata": {},
   "outputs": [
    {
     "data": {
      "text/html": [
       "<div>\n",
       "<style scoped>\n",
       "    .dataframe tbody tr th:only-of-type {\n",
       "        vertical-align: middle;\n",
       "    }\n",
       "\n",
       "    .dataframe tbody tr th {\n",
       "        vertical-align: top;\n",
       "    }\n",
       "\n",
       "    .dataframe thead th {\n",
       "        text-align: right;\n",
       "    }\n",
       "</style>\n",
       "<table border=\"1\" class=\"dataframe\">\n",
       "  <thead>\n",
       "    <tr style=\"text-align: right;\">\n",
       "      <th></th>\n",
       "      <th>project</th>\n",
       "      <th>project_commits</th>\n",
       "    </tr>\n",
       "  </thead>\n",
       "  <tbody>\n",
       "    <tr>\n",
       "      <th>2</th>\n",
       "      <td>iceberg</td>\n",
       "      <td>4098</td>\n",
       "    </tr>\n",
       "    <tr>\n",
       "      <th>1</th>\n",
       "      <td>hudi</td>\n",
       "      <td>4054</td>\n",
       "    </tr>\n",
       "    <tr>\n",
       "      <th>0</th>\n",
       "      <td>delta</td>\n",
       "      <td>3643</td>\n",
       "    </tr>\n",
       "  </tbody>\n",
       "</table>\n",
       "</div>"
      ],
      "text/plain": [
       "   project  project_commits\n",
       "2  iceberg             4098\n",
       "1     hudi             4054\n",
       "0    delta             3643"
      ]
     },
     "execution_count": 159,
     "metadata": {},
     "output_type": "execute_result"
    }
   ],
   "source": [
    "df_commits_by_project = df_commits_profiles[['project']].groupby(['project'], as_index=False).size().rename(columns={'size':'project_commits'})\n",
    "df_commits_by_project.sort_values(by='project_commits', ascending=False).head()"
   ]
  },
  {
   "cell_type": "code",
   "execution_count": 160,
   "id": "434666a5",
   "metadata": {},
   "outputs": [
    {
     "data": {
      "text/html": [
       "<div>\n",
       "<style scoped>\n",
       "    .dataframe tbody tr th:only-of-type {\n",
       "        vertical-align: middle;\n",
       "    }\n",
       "\n",
       "    .dataframe tbody tr th {\n",
       "        vertical-align: top;\n",
       "    }\n",
       "\n",
       "    .dataframe thead th {\n",
       "        text-align: right;\n",
       "    }\n",
       "</style>\n",
       "<table border=\"1\" class=\"dataframe\">\n",
       "  <thead>\n",
       "    <tr style=\"text-align: right;\">\n",
       "      <th></th>\n",
       "      <th>project</th>\n",
       "      <th>company_clean_3</th>\n",
       "      <th>company_commits</th>\n",
       "      <th>project_commits</th>\n",
       "      <th>company_pct_project_commits</th>\n",
       "    </tr>\n",
       "  </thead>\n",
       "  <tbody>\n",
       "    <tr>\n",
       "      <th>68</th>\n",
       "      <td>delta</td>\n",
       "      <td>unknown</td>\n",
       "      <td>1736</td>\n",
       "      <td>3643</td>\n",
       "      <td>47.653033</td>\n",
       "    </tr>\n",
       "    <tr>\n",
       "      <th>150</th>\n",
       "      <td>hudi</td>\n",
       "      <td>unknown</td>\n",
       "      <td>1895</td>\n",
       "      <td>4054</td>\n",
       "      <td>46.743957</td>\n",
       "    </tr>\n",
       "    <tr>\n",
       "      <th>23</th>\n",
       "      <td>delta</td>\n",
       "      <td>databricks</td>\n",
       "      <td>1417</td>\n",
       "      <td>3643</td>\n",
       "      <td>38.896514</td>\n",
       "    </tr>\n",
       "    <tr>\n",
       "      <th>229</th>\n",
       "      <td>iceberg</td>\n",
       "      <td>tabular</td>\n",
       "      <td>1372</td>\n",
       "      <td>4098</td>\n",
       "      <td>33.479746</td>\n",
       "    </tr>\n",
       "    <tr>\n",
       "      <th>239</th>\n",
       "      <td>iceberg</td>\n",
       "      <td>unknown</td>\n",
       "      <td>1032</td>\n",
       "      <td>4098</td>\n",
       "      <td>25.183016</td>\n",
       "    </tr>\n",
       "  </tbody>\n",
       "</table>\n",
       "</div>"
      ],
      "text/plain": [
       "     project company_clean_3  company_commits  project_commits  \\\n",
       "68     delta         unknown             1736             3643   \n",
       "150     hudi         unknown             1895             4054   \n",
       "23     delta      databricks             1417             3643   \n",
       "229  iceberg         tabular             1372             4098   \n",
       "239  iceberg         unknown             1032             4098   \n",
       "\n",
       "     company_pct_project_commits  \n",
       "68                     47.653033  \n",
       "150                    46.743957  \n",
       "23                     38.896514  \n",
       "229                    33.479746  \n",
       "239                    25.183016  "
      ]
     },
     "execution_count": 160,
     "metadata": {},
     "output_type": "execute_result"
    }
   ],
   "source": [
    "df_commits_by_company = pd.merge(df_commits_by_company,df_commits_by_project, on='project', how='left')\n",
    "df_commits_by_company[['company_pct_project_commits']] = 100*(df_commits_by_company['company_commits']/df_commits_by_company['project_commits'])\n",
    "df_commits_by_company.sort_values(by='company_pct_project_commits', ascending=False).head()"
   ]
  },
  {
   "cell_type": "code",
   "execution_count": 161,
   "id": "53f8e5dd",
   "metadata": {},
   "outputs": [],
   "source": [
    "df_commits_by_company_delta = df_commits_by_company[df_commits_by_company['project'] == 'delta'].sort_values(by='company_pct_project_commits', ascending=False)\n",
    "df_commits_by_company_iceberg = df_commits_by_company[df_commits_by_company['project'] == 'iceberg'].sort_values(by='company_pct_project_commits', ascending=False)\n",
    "df_commits_by_company_hudi = df_commits_by_company[df_commits_by_company['project'] == 'hudi'].sort_values(by='company_pct_project_commits', ascending=False)"
   ]
  },
  {
   "cell_type": "code",
   "execution_count": 162,
   "id": "416c6c0c",
   "metadata": {},
   "outputs": [
    {
     "data": {
      "image/png": "[encoded data removed]",
      "text/plain": [
       "<Figure size 432x288 with 1 Axes>"
      ]
     },
     "metadata": {
      "needs_background": "light"
     },
     "output_type": "display_data"
    }
   ],
   "source": [
    "plt.barh(df_commits_by_company_delta['company_clean_3'].head(10), df_commits_by_company_delta['company_pct_project_commits'].head(10), color = \"red\")\n",
    "plt.xlabel(\"Percent of commits\") \n",
    "plt.ylabel(\"Company\") \n",
    "plt.title(\"% of Unique Project commits by Company\")\n",
    "plt.show()"
   ]
  },
  {
   "cell_type": "code",
   "execution_count": 163,
   "id": "5bf0d350",
   "metadata": {},
   "outputs": [
    {
     "data": {
      "image/png": "[encoded data removed]",
      "text/plain": [
       "<Figure size 432x288 with 1 Axes>"
      ]
     },
     "metadata": {
      "needs_background": "light"
     },
     "output_type": "display_data"
    }
   ],
   "source": [
    "plt.barh(df_commits_by_company_iceberg['company_clean_3'].head(10), df_commits_by_company_iceberg['company_pct_project_commits'].head(10), color = \"blue\")\n",
    "plt.xlabel(\"Percent of commits\")\n",
    "plt.ylabel(\"Company\")\n",
    "plt.title(\"% of Unique Project commits by Company\")\n",
    "plt.show()"
   ]
  },
  {
   "cell_type": "markdown",
   "id": "0fac2fd5",
   "metadata": {},
   "source": [
    "## How many unique committers by company?"
   ]
  },
  {
   "cell_type": "code",
   "execution_count": 152,
   "id": "ba55870c",
   "metadata": {},
   "outputs": [
    {
     "data": {
      "text/html": [
       "<div>\n",
       "<style scoped>\n",
       "    .dataframe tbody tr th:only-of-type {\n",
       "        vertical-align: middle;\n",
       "    }\n",
       "\n",
       "    .dataframe tbody tr th {\n",
       "        vertical-align: top;\n",
       "    }\n",
       "\n",
       "    .dataframe thead th {\n",
       "        text-align: right;\n",
       "    }\n",
       "</style>\n",
       "<table border=\"1\" class=\"dataframe\">\n",
       "  <thead>\n",
       "    <tr style=\"text-align: right;\">\n",
       "      <th></th>\n",
       "      <th>login</th>\n",
       "      <th>project</th>\n",
       "      <th>company_clean_3</th>\n",
       "    </tr>\n",
       "  </thead>\n",
       "  <tbody>\n",
       "    <tr>\n",
       "      <th>513</th>\n",
       "      <td>0x3E6</td>\n",
       "      <td>hudi</td>\n",
       "      <td>unknown</td>\n",
       "    </tr>\n",
       "    <tr>\n",
       "      <th>175</th>\n",
       "      <td>0xffmeta</td>\n",
       "      <td>iceberg</td>\n",
       "      <td>unknown</td>\n",
       "    </tr>\n",
       "    <tr>\n",
       "      <th>365</th>\n",
       "      <td>1032851561</td>\n",
       "      <td>hudi</td>\n",
       "      <td>unknown</td>\n",
       "    </tr>\n",
       "    <tr>\n",
       "      <th>127</th>\n",
       "      <td>20100507</td>\n",
       "      <td>iceberg</td>\n",
       "      <td>unknown</td>\n",
       "    </tr>\n",
       "    <tr>\n",
       "      <th>448</th>\n",
       "      <td>5herhom</td>\n",
       "      <td>hudi</td>\n",
       "      <td>unknown</td>\n",
       "    </tr>\n",
       "  </tbody>\n",
       "</table>\n",
       "</div>"
      ],
      "text/plain": [
       "          login  project company_clean_3\n",
       "513       0x3E6     hudi         unknown\n",
       "175    0xffmeta  iceberg         unknown\n",
       "365  1032851561     hudi         unknown\n",
       "127    20100507  iceberg         unknown\n",
       "448     5herhom     hudi         unknown"
      ]
     },
     "execution_count": 152,
     "metadata": {},
     "output_type": "execute_result"
    }
   ],
   "source": [
    "df_unique_committers = df_commits[['login','project']].drop_duplicates(subset='login', keep='first')\n",
    "df_unique_committers_profiles = pd.merge(df_unique_committers, df_unique_profiles[['company_clean_3','login']], on='login', how='left')\n",
    "df_unique_committers_profiles['company_clean_3'].fillna('unknown', inplace=True)\n",
    "df_unique_committers_profiles.sort_values(by='login').head()"
   ]
  },
  {
   "cell_type": "code",
   "execution_count": 153,
   "id": "1eef7fda",
   "metadata": {},
   "outputs": [
    {
     "data": {
      "text/html": [
       "<div>\n",
       "<style scoped>\n",
       "    .dataframe tbody tr th:only-of-type {\n",
       "        vertical-align: middle;\n",
       "    }\n",
       "\n",
       "    .dataframe tbody tr th {\n",
       "        vertical-align: top;\n",
       "    }\n",
       "\n",
       "    .dataframe thead th {\n",
       "        text-align: right;\n",
       "    }\n",
       "</style>\n",
       "<table border=\"1\" class=\"dataframe\">\n",
       "  <thead>\n",
       "    <tr style=\"text-align: right;\">\n",
       "      <th></th>\n",
       "      <th>project</th>\n",
       "      <th>company_clean_3</th>\n",
       "      <th>company_committers</th>\n",
       "    </tr>\n",
       "  </thead>\n",
       "  <tbody>\n",
       "    <tr>\n",
       "      <th>136</th>\n",
       "      <td>hudi</td>\n",
       "      <td>unknown</td>\n",
       "      <td>229</td>\n",
       "    </tr>\n",
       "    <tr>\n",
       "      <th>61</th>\n",
       "      <td>delta</td>\n",
       "      <td>unknown</td>\n",
       "      <td>156</td>\n",
       "    </tr>\n",
       "    <tr>\n",
       "      <th>225</th>\n",
       "      <td>iceberg</td>\n",
       "      <td>unknown</td>\n",
       "      <td>156</td>\n",
       "    </tr>\n",
       "    <tr>\n",
       "      <th>19</th>\n",
       "      <td>delta</td>\n",
       "      <td>databricks</td>\n",
       "      <td>85</td>\n",
       "    </tr>\n",
       "    <tr>\n",
       "      <th>147</th>\n",
       "      <td>iceberg</td>\n",
       "      <td>amazon</td>\n",
       "      <td>24</td>\n",
       "    </tr>\n",
       "  </tbody>\n",
       "</table>\n",
       "</div>"
      ],
      "text/plain": [
       "     project company_clean_3  company_committers\n",
       "136     hudi         unknown                 229\n",
       "61     delta         unknown                 156\n",
       "225  iceberg         unknown                 156\n",
       "19     delta      databricks                  85\n",
       "147  iceberg          amazon                  24"
      ]
     },
     "execution_count": 153,
     "metadata": {},
     "output_type": "execute_result"
    }
   ],
   "source": [
    "df_committers_by_company = df_unique_committers_profiles[['project','company_clean_3']].groupby(['project','company_clean_3'], as_index=False).size().rename(columns={'size':'company_committers'})\n",
    "df_committers_by_company.sort_values(by='company_committers', ascending=False).head()"
   ]
  },
  {
   "cell_type": "code",
   "execution_count": 154,
   "id": "56bfed86",
   "metadata": {},
   "outputs": [
    {
     "data": {
      "text/html": [
       "<div>\n",
       "<style scoped>\n",
       "    .dataframe tbody tr th:only-of-type {\n",
       "        vertical-align: middle;\n",
       "    }\n",
       "\n",
       "    .dataframe tbody tr th {\n",
       "        vertical-align: top;\n",
       "    }\n",
       "\n",
       "    .dataframe thead th {\n",
       "        text-align: right;\n",
       "    }\n",
       "</style>\n",
       "<table border=\"1\" class=\"dataframe\">\n",
       "  <thead>\n",
       "    <tr style=\"text-align: right;\">\n",
       "      <th></th>\n",
       "      <th>project</th>\n",
       "      <th>project_committers</th>\n",
       "    </tr>\n",
       "  </thead>\n",
       "  <tbody>\n",
       "    <tr>\n",
       "      <th>1</th>\n",
       "      <td>hudi</td>\n",
       "      <td>341</td>\n",
       "    </tr>\n",
       "    <tr>\n",
       "      <th>2</th>\n",
       "      <td>iceberg</td>\n",
       "      <td>331</td>\n",
       "    </tr>\n",
       "    <tr>\n",
       "      <th>0</th>\n",
       "      <td>delta</td>\n",
       "      <td>318</td>\n",
       "    </tr>\n",
       "  </tbody>\n",
       "</table>\n",
       "</div>"
      ],
      "text/plain": [
       "   project  project_committers\n",
       "1     hudi                 341\n",
       "2  iceberg                 331\n",
       "0    delta                 318"
      ]
     },
     "execution_count": 154,
     "metadata": {},
     "output_type": "execute_result"
    }
   ],
   "source": [
    "df_committers_by_project = df_unique_committers_profiles[['project']].groupby(['project'], as_index=False).size().rename(columns={'size':'project_committers'})\n",
    "df_committers_by_project.sort_values(by='project_committers', ascending=False).head()"
   ]
  },
  {
   "cell_type": "code",
   "execution_count": 155,
   "id": "318567d9",
   "metadata": {},
   "outputs": [
    {
     "data": {
      "text/html": [
       "<div>\n",
       "<style scoped>\n",
       "    .dataframe tbody tr th:only-of-type {\n",
       "        vertical-align: middle;\n",
       "    }\n",
       "\n",
       "    .dataframe tbody tr th {\n",
       "        vertical-align: top;\n",
       "    }\n",
       "\n",
       "    .dataframe thead th {\n",
       "        text-align: right;\n",
       "    }\n",
       "</style>\n",
       "<table border=\"1\" class=\"dataframe\">\n",
       "  <thead>\n",
       "    <tr style=\"text-align: right;\">\n",
       "      <th></th>\n",
       "      <th>project</th>\n",
       "      <th>company_clean_3</th>\n",
       "      <th>company_committers</th>\n",
       "      <th>project_committers</th>\n",
       "      <th>company_pct_project_committers</th>\n",
       "    </tr>\n",
       "  </thead>\n",
       "  <tbody>\n",
       "    <tr>\n",
       "      <th>136</th>\n",
       "      <td>hudi</td>\n",
       "      <td>unknown</td>\n",
       "      <td>229</td>\n",
       "      <td>341</td>\n",
       "      <td>67.155425</td>\n",
       "    </tr>\n",
       "    <tr>\n",
       "      <th>61</th>\n",
       "      <td>delta</td>\n",
       "      <td>unknown</td>\n",
       "      <td>156</td>\n",
       "      <td>318</td>\n",
       "      <td>49.056604</td>\n",
       "    </tr>\n",
       "    <tr>\n",
       "      <th>225</th>\n",
       "      <td>iceberg</td>\n",
       "      <td>unknown</td>\n",
       "      <td>156</td>\n",
       "      <td>331</td>\n",
       "      <td>47.129909</td>\n",
       "    </tr>\n",
       "    <tr>\n",
       "      <th>19</th>\n",
       "      <td>delta</td>\n",
       "      <td>databricks</td>\n",
       "      <td>85</td>\n",
       "      <td>318</td>\n",
       "      <td>26.729560</td>\n",
       "    </tr>\n",
       "    <tr>\n",
       "      <th>147</th>\n",
       "      <td>iceberg</td>\n",
       "      <td>amazon</td>\n",
       "      <td>24</td>\n",
       "      <td>331</td>\n",
       "      <td>7.250755</td>\n",
       "    </tr>\n",
       "  </tbody>\n",
       "</table>\n",
       "</div>"
      ],
      "text/plain": [
       "     project company_clean_3  company_committers  project_committers  \\\n",
       "136     hudi         unknown                 229                 341   \n",
       "61     delta         unknown                 156                 318   \n",
       "225  iceberg         unknown                 156                 331   \n",
       "19     delta      databricks                  85                 318   \n",
       "147  iceberg          amazon                  24                 331   \n",
       "\n",
       "     company_pct_project_committers  \n",
       "136                       67.155425  \n",
       "61                        49.056604  \n",
       "225                       47.129909  \n",
       "19                        26.729560  \n",
       "147                        7.250755  "
      ]
     },
     "execution_count": 155,
     "metadata": {},
     "output_type": "execute_result"
    }
   ],
   "source": [
    "df_committers_by_company = pd.merge(df_committers_by_company,df_committers_by_project, on='project', how='left')\n",
    "df_committers_by_company[['company_pct_project_committers']] = 100*(df_committers_by_company['company_committers']/df_committers_by_company['project_committers'])\n",
    "df_committers_by_company.sort_values(by='company_pct_project_committers', ascending=False).head()"
   ]
  },
  {
   "cell_type": "code",
   "execution_count": 156,
   "id": "b9208f25",
   "metadata": {},
   "outputs": [],
   "source": [
    "df_committers_by_company_delta = df_committers_by_company[df_committers_by_company['project'] == 'delta'].sort_values(by='company_pct_project_committers', ascending=False)\n",
    "df_committers_by_company_iceberg = df_committers_by_company[df_committers_by_company['project'] == 'iceberg'].sort_values(by='company_pct_project_committers', ascending=False)\n",
    "df_committers_by_company_hudi = df_committers_by_company[df_committers_by_company['project'] == 'hudi'].sort_values(by='company_pct_project_committers', ascending=False)"
   ]
  },
  {
   "cell_type": "code",
   "execution_count": 170,
   "id": "0e642576",
   "metadata": {},
   "outputs": [
    {
     "data": {
      "image/png": "[encoded data removed]",
      "text/plain": [
       "<Figure size 432x288 with 1 Axes>"
      ]
     },
     "metadata": {
      "needs_background": "light"
     },
     "output_type": "display_data"
    }
   ],
   "source": [
    "plt.barh(df_committers_by_company_delta['company_clean_3'].head(10), df_committers_by_company_delta['company_pct_project_committers'].head(10), color = \"red\")\n",
    "plt.xlabel(\"Percent of committers\") \n",
    "plt.ylabel(\"Company\") \n",
    "plt.title(\"% of Unique Project committers by Company\")\n",
    "plt.show()"
   ]
  },
  {
   "cell_type": "code",
   "execution_count": 171,
   "id": "5b6c6212",
   "metadata": {},
   "outputs": [
    {
     "data": {
      "image/png": "[encoded data removed]",
      "text/plain": [
       "<Figure size 432x288 with 1 Axes>"
      ]
     },
     "metadata": {
      "needs_background": "light"
     },
     "output_type": "display_data"
    }
   ],
   "source": [
    "plt.barh(df_committers_by_company_iceberg['company_clean_3'].head(10), df_committers_by_company_iceberg['company_pct_project_committers'].head(10), color = \"blue\")\n",
    "plt.xlabel(\"Percent of committers\") \n",
    "plt.ylabel(\"Company\") \n",
    "plt.title(\"% of Unique Project committers by Company\")\n",
    "plt.show()"
   ]
  },
  {
   "cell_type": "markdown",
   "id": "7df800ed",
   "metadata": {},
   "source": [
    "## How many contributions by company?"
   ]
  },
  {
   "cell_type": "code",
   "execution_count": 63,
   "id": "e5eff30c",
   "metadata": {},
   "outputs": [
    {
     "data": {
      "text/html": [
       "<div>\n",
       "<style scoped>\n",
       "    .dataframe tbody tr th:only-of-type {\n",
       "        vertical-align: middle;\n",
       "    }\n",
       "\n",
       "    .dataframe tbody tr th {\n",
       "        vertical-align: top;\n",
       "    }\n",
       "\n",
       "    .dataframe thead th {\n",
       "        text-align: right;\n",
       "    }\n",
       "</style>\n",
       "<table border=\"1\" class=\"dataframe\">\n",
       "  <thead>\n",
       "    <tr style=\"text-align: right;\">\n",
       "      <th></th>\n",
       "      <th>login</th>\n",
       "      <th>url</th>\n",
       "      <th>contributions</th>\n",
       "      <th>repo</th>\n",
       "      <th>project</th>\n",
       "    </tr>\n",
       "  </thead>\n",
       "  <tbody>\n",
       "    <tr>\n",
       "      <th>0</th>\n",
       "      <td>rdblue</td>\n",
       "      <td>https://api.github.com/users/rdblue</td>\n",
       "      <td>667</td>\n",
       "      <td>apache/iceberg</td>\n",
       "      <td>iceberg</td>\n",
       "    </tr>\n",
       "    <tr>\n",
       "      <th>1</th>\n",
       "      <td>aokolnychyi</td>\n",
       "      <td>https://api.github.com/users/aokolnychyi</td>\n",
       "      <td>329</td>\n",
       "      <td>apache/iceberg</td>\n",
       "      <td>iceberg</td>\n",
       "    </tr>\n",
       "    <tr>\n",
       "      <th>2</th>\n",
       "      <td>Fokko</td>\n",
       "      <td>https://api.github.com/users/Fokko</td>\n",
       "      <td>285</td>\n",
       "      <td>apache/iceberg</td>\n",
       "      <td>iceberg</td>\n",
       "    </tr>\n",
       "    <tr>\n",
       "      <th>3</th>\n",
       "      <td>nastra</td>\n",
       "      <td>https://api.github.com/users/nastra</td>\n",
       "      <td>205</td>\n",
       "      <td>apache/iceberg</td>\n",
       "      <td>iceberg</td>\n",
       "    </tr>\n",
       "    <tr>\n",
       "      <th>4</th>\n",
       "      <td>kbendick</td>\n",
       "      <td>https://api.github.com/users/kbendick</td>\n",
       "      <td>181</td>\n",
       "      <td>apache/iceberg</td>\n",
       "      <td>iceberg</td>\n",
       "    </tr>\n",
       "  </tbody>\n",
       "</table>\n",
       "</div>"
      ],
      "text/plain": [
       "         login                                       url  contributions  \\\n",
       "0       rdblue       https://api.github.com/users/rdblue            667   \n",
       "1  aokolnychyi  https://api.github.com/users/aokolnychyi            329   \n",
       "2        Fokko        https://api.github.com/users/Fokko            285   \n",
       "3       nastra       https://api.github.com/users/nastra            205   \n",
       "4     kbendick     https://api.github.com/users/kbendick            181   \n",
       "\n",
       "             repo  project  \n",
       "0  apache/iceberg  iceberg  \n",
       "1  apache/iceberg  iceberg  \n",
       "2  apache/iceberg  iceberg  \n",
       "3  apache/iceberg  iceberg  \n",
       "4  apache/iceberg  iceberg  "
      ]
     },
     "execution_count": 63,
     "metadata": {},
     "output_type": "execute_result"
    }
   ],
   "source": [
    "df_all_proj_contributors.head()"
   ]
  },
  {
   "cell_type": "code",
   "execution_count": 172,
   "id": "75d4d443",
   "metadata": {},
   "outputs": [
    {
     "data": {
      "text/html": [
       "<div>\n",
       "<style scoped>\n",
       "    .dataframe tbody tr th:only-of-type {\n",
       "        vertical-align: middle;\n",
       "    }\n",
       "\n",
       "    .dataframe tbody tr th {\n",
       "        vertical-align: top;\n",
       "    }\n",
       "\n",
       "    .dataframe thead th {\n",
       "        text-align: right;\n",
       "    }\n",
       "</style>\n",
       "<table border=\"1\" class=\"dataframe\">\n",
       "  <thead>\n",
       "    <tr style=\"text-align: right;\">\n",
       "      <th></th>\n",
       "      <th>login</th>\n",
       "      <th>url</th>\n",
       "      <th>contributions</th>\n",
       "      <th>repo</th>\n",
       "      <th>project</th>\n",
       "      <th>company_clean_3</th>\n",
       "    </tr>\n",
       "  </thead>\n",
       "  <tbody>\n",
       "    <tr>\n",
       "      <th>0</th>\n",
       "      <td>rdblue</td>\n",
       "      <td>https://api.github.com/users/rdblue</td>\n",
       "      <td>667</td>\n",
       "      <td>apache/iceberg</td>\n",
       "      <td>iceberg</td>\n",
       "      <td>tabular</td>\n",
       "    </tr>\n",
       "    <tr>\n",
       "      <th>1</th>\n",
       "      <td>aokolnychyi</td>\n",
       "      <td>https://api.github.com/users/aokolnychyi</td>\n",
       "      <td>329</td>\n",
       "      <td>apache/iceberg</td>\n",
       "      <td>iceberg</td>\n",
       "      <td>apple</td>\n",
       "    </tr>\n",
       "    <tr>\n",
       "      <th>2</th>\n",
       "      <td>Fokko</td>\n",
       "      <td>https://api.github.com/users/Fokko</td>\n",
       "      <td>285</td>\n",
       "      <td>apache/iceberg</td>\n",
       "      <td>iceberg</td>\n",
       "      <td>tabular</td>\n",
       "    </tr>\n",
       "    <tr>\n",
       "      <th>3</th>\n",
       "      <td>nastra</td>\n",
       "      <td>https://api.github.com/users/nastra</td>\n",
       "      <td>205</td>\n",
       "      <td>apache/iceberg</td>\n",
       "      <td>iceberg</td>\n",
       "      <td>tabular</td>\n",
       "    </tr>\n",
       "    <tr>\n",
       "      <th>4</th>\n",
       "      <td>kbendick</td>\n",
       "      <td>https://api.github.com/users/kbendick</td>\n",
       "      <td>181</td>\n",
       "      <td>apache/iceberg</td>\n",
       "      <td>iceberg</td>\n",
       "      <td>tabular</td>\n",
       "    </tr>\n",
       "  </tbody>\n",
       "</table>\n",
       "</div>"
      ],
      "text/plain": [
       "         login                                       url  contributions  \\\n",
       "0       rdblue       https://api.github.com/users/rdblue            667   \n",
       "1  aokolnychyi  https://api.github.com/users/aokolnychyi            329   \n",
       "2        Fokko        https://api.github.com/users/Fokko            285   \n",
       "3       nastra       https://api.github.com/users/nastra            205   \n",
       "4     kbendick     https://api.github.com/users/kbendick            181   \n",
       "\n",
       "             repo  project company_clean_3  \n",
       "0  apache/iceberg  iceberg         tabular  \n",
       "1  apache/iceberg  iceberg           apple  \n",
       "2  apache/iceberg  iceberg         tabular  \n",
       "3  apache/iceberg  iceberg         tabular  \n",
       "4  apache/iceberg  iceberg         tabular  "
      ]
     },
     "execution_count": 172,
     "metadata": {},
     "output_type": "execute_result"
    }
   ],
   "source": [
    "df_contributions_profiles = pd.merge(df_all_proj_contributors, df_unique_profiles[['company_clean_3','login']], on='login', how='left')\n",
    "df_contributions_profiles['company_clean_3'].fillna('unknown', inplace=True)\n",
    "df_contributions_profiles.head()"
   ]
  },
  {
   "cell_type": "code",
   "execution_count": 173,
   "id": "6b4ee344",
   "metadata": {},
   "outputs": [
    {
     "data": {
      "text/html": [
       "<div>\n",
       "<style scoped>\n",
       "    .dataframe tbody tr th:only-of-type {\n",
       "        vertical-align: middle;\n",
       "    }\n",
       "\n",
       "    .dataframe tbody tr th {\n",
       "        vertical-align: top;\n",
       "    }\n",
       "\n",
       "    .dataframe thead th {\n",
       "        text-align: right;\n",
       "    }\n",
       "</style>\n",
       "<table border=\"1\" class=\"dataframe\">\n",
       "  <thead>\n",
       "    <tr style=\"text-align: right;\">\n",
       "      <th></th>\n",
       "      <th>project</th>\n",
       "      <th>company_clean_3</th>\n",
       "      <th>company_contributions</th>\n",
       "    </tr>\n",
       "  </thead>\n",
       "  <tbody>\n",
       "    <tr>\n",
       "      <th>150</th>\n",
       "      <td>hudi</td>\n",
       "      <td>unknown</td>\n",
       "      <td>1749</td>\n",
       "    </tr>\n",
       "    <tr>\n",
       "      <th>68</th>\n",
       "      <td>delta</td>\n",
       "      <td>unknown</td>\n",
       "      <td>1613</td>\n",
       "    </tr>\n",
       "    <tr>\n",
       "      <th>23</th>\n",
       "      <td>delta</td>\n",
       "      <td>databricks</td>\n",
       "      <td>1417</td>\n",
       "    </tr>\n",
       "    <tr>\n",
       "      <th>229</th>\n",
       "      <td>iceberg</td>\n",
       "      <td>tabular</td>\n",
       "      <td>1372</td>\n",
       "    </tr>\n",
       "    <tr>\n",
       "      <th>239</th>\n",
       "      <td>iceberg</td>\n",
       "      <td>unknown</td>\n",
       "      <td>949</td>\n",
       "    </tr>\n",
       "  </tbody>\n",
       "</table>\n",
       "</div>"
      ],
      "text/plain": [
       "     project company_clean_3  company_contributions\n",
       "150     hudi         unknown                   1749\n",
       "68     delta         unknown                   1613\n",
       "23     delta      databricks                   1417\n",
       "229  iceberg         tabular                   1372\n",
       "239  iceberg         unknown                    949"
      ]
     },
     "execution_count": 173,
     "metadata": {},
     "output_type": "execute_result"
    }
   ],
   "source": [
    "df_contributions_by_company = df_contributions_profiles.groupby(['project','company_clean_3'], as_index=False)['contributions'].agg('sum').rename(columns={'contributions':'company_contributions'})\n",
    "df_contributions_by_company.sort_values(by='company_contributions', ascending=False).head()"
   ]
  },
  {
   "cell_type": "code",
   "execution_count": 174,
   "id": "8372704c",
   "metadata": {},
   "outputs": [
    {
     "data": {
      "text/html": [
       "<div>\n",
       "<style scoped>\n",
       "    .dataframe tbody tr th:only-of-type {\n",
       "        vertical-align: middle;\n",
       "    }\n",
       "\n",
       "    .dataframe tbody tr th {\n",
       "        vertical-align: top;\n",
       "    }\n",
       "\n",
       "    .dataframe thead th {\n",
       "        text-align: right;\n",
       "    }\n",
       "</style>\n",
       "<table border=\"1\" class=\"dataframe\">\n",
       "  <thead>\n",
       "    <tr style=\"text-align: right;\">\n",
       "      <th></th>\n",
       "      <th>project</th>\n",
       "      <th>project_contributions</th>\n",
       "    </tr>\n",
       "  </thead>\n",
       "  <tbody>\n",
       "    <tr>\n",
       "      <th>2</th>\n",
       "      <td>iceberg</td>\n",
       "      <td>4015</td>\n",
       "    </tr>\n",
       "    <tr>\n",
       "      <th>1</th>\n",
       "      <td>hudi</td>\n",
       "      <td>3908</td>\n",
       "    </tr>\n",
       "    <tr>\n",
       "      <th>0</th>\n",
       "      <td>delta</td>\n",
       "      <td>3520</td>\n",
       "    </tr>\n",
       "  </tbody>\n",
       "</table>\n",
       "</div>"
      ],
      "text/plain": [
       "   project  project_contributions\n",
       "2  iceberg                   4015\n",
       "1     hudi                   3908\n",
       "0    delta                   3520"
      ]
     },
     "execution_count": 174,
     "metadata": {},
     "output_type": "execute_result"
    }
   ],
   "source": [
    "df_contributions_by_project = df_contributions_profiles.groupby(['project'], as_index=False)['contributions'].agg('sum').rename(columns={'contributions':'project_contributions'})\n",
    "df_contributions_by_project.sort_values(by='project_contributions', ascending=False).head()"
   ]
  },
  {
   "cell_type": "code",
   "execution_count": 177,
   "id": "6f4282ca",
   "metadata": {},
   "outputs": [
    {
     "data": {
      "text/html": [
       "<div>\n",
       "<style scoped>\n",
       "    .dataframe tbody tr th:only-of-type {\n",
       "        vertical-align: middle;\n",
       "    }\n",
       "\n",
       "    .dataframe tbody tr th {\n",
       "        vertical-align: top;\n",
       "    }\n",
       "\n",
       "    .dataframe thead th {\n",
       "        text-align: right;\n",
       "    }\n",
       "</style>\n",
       "<table border=\"1\" class=\"dataframe\">\n",
       "  <thead>\n",
       "    <tr style=\"text-align: right;\">\n",
       "      <th></th>\n",
       "      <th>project</th>\n",
       "      <th>company_clean_3</th>\n",
       "      <th>company_contributions</th>\n",
       "      <th>project_contributions</th>\n",
       "      <th>company_pct_project_contributions</th>\n",
       "    </tr>\n",
       "  </thead>\n",
       "  <tbody>\n",
       "    <tr>\n",
       "      <th>68</th>\n",
       "      <td>delta</td>\n",
       "      <td>unknown</td>\n",
       "      <td>1613</td>\n",
       "      <td>3520</td>\n",
       "      <td>45.823864</td>\n",
       "    </tr>\n",
       "    <tr>\n",
       "      <th>150</th>\n",
       "      <td>hudi</td>\n",
       "      <td>unknown</td>\n",
       "      <td>1749</td>\n",
       "      <td>3908</td>\n",
       "      <td>44.754350</td>\n",
       "    </tr>\n",
       "    <tr>\n",
       "      <th>23</th>\n",
       "      <td>delta</td>\n",
       "      <td>databricks</td>\n",
       "      <td>1417</td>\n",
       "      <td>3520</td>\n",
       "      <td>40.255682</td>\n",
       "    </tr>\n",
       "    <tr>\n",
       "      <th>229</th>\n",
       "      <td>iceberg</td>\n",
       "      <td>tabular</td>\n",
       "      <td>1372</td>\n",
       "      <td>4015</td>\n",
       "      <td>34.171856</td>\n",
       "    </tr>\n",
       "    <tr>\n",
       "      <th>239</th>\n",
       "      <td>iceberg</td>\n",
       "      <td>unknown</td>\n",
       "      <td>949</td>\n",
       "      <td>4015</td>\n",
       "      <td>23.636364</td>\n",
       "    </tr>\n",
       "  </tbody>\n",
       "</table>\n",
       "</div>"
      ],
      "text/plain": [
       "     project company_clean_3  company_contributions  project_contributions  \\\n",
       "68     delta         unknown                   1613                   3520   \n",
       "150     hudi         unknown                   1749                   3908   \n",
       "23     delta      databricks                   1417                   3520   \n",
       "229  iceberg         tabular                   1372                   4015   \n",
       "239  iceberg         unknown                    949                   4015   \n",
       "\n",
       "     company_pct_project_contributions  \n",
       "68                           45.823864  \n",
       "150                          44.754350  \n",
       "23                           40.255682  \n",
       "229                          34.171856  \n",
       "239                          23.636364  "
      ]
     },
     "execution_count": 177,
     "metadata": {},
     "output_type": "execute_result"
    }
   ],
   "source": [
    "df_contributions_by_company = pd.merge(df_contributions_by_company,df_contributions_by_project, on='project', how='left')\n",
    "df_contributions_by_company[['company_pct_project_contributions']] = 100*(df_contributions_by_company['company_contributions']/df_contributions_by_company['project_contributions'])\n",
    "df_contributions_by_company.sort_values(by='company_pct_project_contributions', ascending=False).head()"
   ]
  },
  {
   "cell_type": "code",
   "execution_count": 178,
   "id": "a7d08de8",
   "metadata": {},
   "outputs": [],
   "source": [
    "df_contributions_by_company_delta = df_contributions_by_company[df_contributions_by_company['project'] == 'delta'].sort_values(by='company_pct_project_contributions', ascending=False)\n",
    "df_contributions_by_company_iceberg = df_contributions_by_company[df_contributions_by_company['project'] == 'iceberg'].sort_values(by='company_pct_project_contributions', ascending=False)\n",
    "df_contributions_by_company_hudi = df_contributions_by_company[df_contributions_by_company['project'] == 'hudi'].sort_values(by='company_pct_project_contributions', ascending=False)"
   ]
  },
  {
   "cell_type": "code",
   "execution_count": 179,
   "id": "ecbf9cc9",
   "metadata": {},
   "outputs": [
    {
     "data": {
      "image/png": "[encoded data removed]",
      "text/plain": [
       "<Figure size 432x288 with 1 Axes>"
      ]
     },
     "metadata": {
      "needs_background": "light"
     },
     "output_type": "display_data"
    }
   ],
   "source": [
    "plt.barh(df_contributions_by_company_delta['company_clean_3'].head(10), df_contributions_by_company_iceberg['company_pct_project_contributions'].head(10), color = \"red\")\n",
    "plt.xlabel(\"Percent of Contributions\") \n",
    "plt.ylabel(\"Company\") \n",
    "plt.title(\"% of Unique Project Contributions by Company\")\n",
    "plt.show()"
   ]
  },
  {
   "cell_type": "code",
   "execution_count": 180,
   "id": "ac2a2ca8",
   "metadata": {},
   "outputs": [
    {
     "data": {
      "image/png": "[encoded data removed]",
      "text/plain": [
       "<Figure size 432x288 with 1 Axes>"
      ]
     },
     "metadata": {
      "needs_background": "light"
     },
     "output_type": "display_data"
    }
   ],
   "source": [
    "plt.barh(df_contributions_by_company_iceberg['company_clean_3'].head(10), df_contributions_by_company_iceberg['company_pct_project_contributions'].head(10), color = \"blue\")\n",
    "plt.xlabel(\"Percent of Contributions\") \n",
    "plt.ylabel(\"Company\") \n",
    "plt.title(\"% of Unique Project Contributions by Company\")\n",
    "plt.show()"
   ]
  },
  {
   "cell_type": "markdown",
   "id": "5a542131",
   "metadata": {},
   "source": [
    "## How many unique contributors by company?"
   ]
  },
  {
   "cell_type": "code",
   "execution_count": 189,
   "id": "46d0c457",
   "metadata": {},
   "outputs": [
    {
     "data": {
      "text/html": [
       "<div>\n",
       "<style scoped>\n",
       "    .dataframe tbody tr th:only-of-type {\n",
       "        vertical-align: middle;\n",
       "    }\n",
       "\n",
       "    .dataframe tbody tr th {\n",
       "        vertical-align: top;\n",
       "    }\n",
       "\n",
       "    .dataframe thead th {\n",
       "        text-align: right;\n",
       "    }\n",
       "</style>\n",
       "<table border=\"1\" class=\"dataframe\">\n",
       "  <thead>\n",
       "    <tr style=\"text-align: right;\">\n",
       "      <th></th>\n",
       "      <th>login</th>\n",
       "      <th>project</th>\n",
       "      <th>company_clean_3</th>\n",
       "    </tr>\n",
       "  </thead>\n",
       "  <tbody>\n",
       "    <tr>\n",
       "      <th>468</th>\n",
       "      <td>0x3E6</td>\n",
       "      <td>hudi</td>\n",
       "      <td>unknown</td>\n",
       "    </tr>\n",
       "    <tr>\n",
       "      <th>116</th>\n",
       "      <td>0xffmeta</td>\n",
       "      <td>iceberg</td>\n",
       "      <td>unknown</td>\n",
       "    </tr>\n",
       "    <tr>\n",
       "      <th>459</th>\n",
       "      <td>1032851561</td>\n",
       "      <td>hudi</td>\n",
       "      <td>unknown</td>\n",
       "    </tr>\n",
       "    <tr>\n",
       "      <th>147</th>\n",
       "      <td>20100507</td>\n",
       "      <td>iceberg</td>\n",
       "      <td>unknown</td>\n",
       "    </tr>\n",
       "    <tr>\n",
       "      <th>439</th>\n",
       "      <td>5herhom</td>\n",
       "      <td>hudi</td>\n",
       "      <td>unknown</td>\n",
       "    </tr>\n",
       "  </tbody>\n",
       "</table>\n",
       "</div>"
      ],
      "text/plain": [
       "          login  project company_clean_3\n",
       "468       0x3E6     hudi         unknown\n",
       "116    0xffmeta  iceberg         unknown\n",
       "459  1032851561     hudi         unknown\n",
       "147    20100507  iceberg         unknown\n",
       "439     5herhom     hudi         unknown"
      ]
     },
     "execution_count": 189,
     "metadata": {},
     "output_type": "execute_result"
    }
   ],
   "source": [
    "df_unique_contributors = df_contributions_profiles[['login','project']].drop_duplicates(subset='login', keep='first')\n",
    "df_unique_contributors_profiles = pd.merge(df_unique_contributors, df_unique_profiles[['company_clean_3','login']], on='login', how='left')\n",
    "df_unique_contributors_profiles['company_clean_3'].fillna('unknown', inplace=True)\n",
    "df_unique_contributors_profiles.sort_values(by='login').head()"
   ]
  },
  {
   "cell_type": "code",
   "execution_count": 190,
   "id": "a2e54dd7",
   "metadata": {},
   "outputs": [
    {
     "data": {
      "text/html": [
       "<div>\n",
       "<style scoped>\n",
       "    .dataframe tbody tr th:only-of-type {\n",
       "        vertical-align: middle;\n",
       "    }\n",
       "\n",
       "    .dataframe tbody tr th {\n",
       "        vertical-align: top;\n",
       "    }\n",
       "\n",
       "    .dataframe thead th {\n",
       "        text-align: right;\n",
       "    }\n",
       "</style>\n",
       "<table border=\"1\" class=\"dataframe\">\n",
       "  <thead>\n",
       "    <tr style=\"text-align: right;\">\n",
       "      <th></th>\n",
       "      <th>project</th>\n",
       "      <th>company_clean_3</th>\n",
       "      <th>company_contributors</th>\n",
       "    </tr>\n",
       "  </thead>\n",
       "  <tbody>\n",
       "    <tr>\n",
       "      <th>140</th>\n",
       "      <td>hudi</td>\n",
       "      <td>unknown</td>\n",
       "      <td>228</td>\n",
       "    </tr>\n",
       "    <tr>\n",
       "      <th>229</th>\n",
       "      <td>iceberg</td>\n",
       "      <td>unknown</td>\n",
       "      <td>154</td>\n",
       "    </tr>\n",
       "    <tr>\n",
       "      <th>64</th>\n",
       "      <td>delta</td>\n",
       "      <td>unknown</td>\n",
       "      <td>150</td>\n",
       "    </tr>\n",
       "    <tr>\n",
       "      <th>21</th>\n",
       "      <td>delta</td>\n",
       "      <td>databricks</td>\n",
       "      <td>85</td>\n",
       "    </tr>\n",
       "    <tr>\n",
       "      <th>151</th>\n",
       "      <td>iceberg</td>\n",
       "      <td>amazon</td>\n",
       "      <td>25</td>\n",
       "    </tr>\n",
       "  </tbody>\n",
       "</table>\n",
       "</div>"
      ],
      "text/plain": [
       "     project company_clean_3  company_contributors\n",
       "140     hudi         unknown                   228\n",
       "229  iceberg         unknown                   154\n",
       "64     delta         unknown                   150\n",
       "21     delta      databricks                    85\n",
       "151  iceberg          amazon                    25"
      ]
     },
     "execution_count": 190,
     "metadata": {},
     "output_type": "execute_result"
    }
   ],
   "source": [
    "df_contributors_by_company = df_unique_contributors_profiles[['project','company_clean_3']].groupby(['project','company_clean_3'], as_index=False).size().rename(columns={'size':'company_contributors'})\n",
    "df_contributors_by_company.sort_values(by='company_contributors', ascending=False).head()"
   ]
  },
  {
   "cell_type": "code",
   "execution_count": 191,
   "id": "0e8c2f28",
   "metadata": {},
   "outputs": [
    {
     "data": {
      "text/html": [
       "<div>\n",
       "<style scoped>\n",
       "    .dataframe tbody tr th:only-of-type {\n",
       "        vertical-align: middle;\n",
       "    }\n",
       "\n",
       "    .dataframe tbody tr th {\n",
       "        vertical-align: top;\n",
       "    }\n",
       "\n",
       "    .dataframe thead th {\n",
       "        text-align: right;\n",
       "    }\n",
       "</style>\n",
       "<table border=\"1\" class=\"dataframe\">\n",
       "  <thead>\n",
       "    <tr style=\"text-align: right;\">\n",
       "      <th></th>\n",
       "      <th>project</th>\n",
       "      <th>project_contributors</th>\n",
       "    </tr>\n",
       "  </thead>\n",
       "  <tbody>\n",
       "    <tr>\n",
       "      <th>1</th>\n",
       "      <td>hudi</td>\n",
       "      <td>341</td>\n",
       "    </tr>\n",
       "    <tr>\n",
       "      <th>2</th>\n",
       "      <td>iceberg</td>\n",
       "      <td>330</td>\n",
       "    </tr>\n",
       "    <tr>\n",
       "      <th>0</th>\n",
       "      <td>delta</td>\n",
       "      <td>316</td>\n",
       "    </tr>\n",
       "  </tbody>\n",
       "</table>\n",
       "</div>"
      ],
      "text/plain": [
       "   project  project_contributors\n",
       "1     hudi                   341\n",
       "2  iceberg                   330\n",
       "0    delta                   316"
      ]
     },
     "execution_count": 191,
     "metadata": {},
     "output_type": "execute_result"
    }
   ],
   "source": [
    "df_contributors_by_project = df_unique_contributors_profiles[['project']].groupby(['project'], as_index=False).size().rename(columns={'size':'project_contributors'})\n",
    "df_contributors_by_project.sort_values(by='project_contributors', ascending=False).head()"
   ]
  },
  {
   "cell_type": "code",
   "execution_count": 192,
   "id": "4920c486",
   "metadata": {},
   "outputs": [
    {
     "data": {
      "text/html": [
       "<div>\n",
       "<style scoped>\n",
       "    .dataframe tbody tr th:only-of-type {\n",
       "        vertical-align: middle;\n",
       "    }\n",
       "\n",
       "    .dataframe tbody tr th {\n",
       "        vertical-align: top;\n",
       "    }\n",
       "\n",
       "    .dataframe thead th {\n",
       "        text-align: right;\n",
       "    }\n",
       "</style>\n",
       "<table border=\"1\" class=\"dataframe\">\n",
       "  <thead>\n",
       "    <tr style=\"text-align: right;\">\n",
       "      <th></th>\n",
       "      <th>project</th>\n",
       "      <th>company_clean_3</th>\n",
       "      <th>company_contributors</th>\n",
       "      <th>project_contributors</th>\n",
       "      <th>company_pct_project_contributors</th>\n",
       "    </tr>\n",
       "  </thead>\n",
       "  <tbody>\n",
       "    <tr>\n",
       "      <th>140</th>\n",
       "      <td>hudi</td>\n",
       "      <td>unknown</td>\n",
       "      <td>228</td>\n",
       "      <td>341</td>\n",
       "      <td>66.862170</td>\n",
       "    </tr>\n",
       "    <tr>\n",
       "      <th>64</th>\n",
       "      <td>delta</td>\n",
       "      <td>unknown</td>\n",
       "      <td>150</td>\n",
       "      <td>316</td>\n",
       "      <td>47.468354</td>\n",
       "    </tr>\n",
       "    <tr>\n",
       "      <th>229</th>\n",
       "      <td>iceberg</td>\n",
       "      <td>unknown</td>\n",
       "      <td>154</td>\n",
       "      <td>330</td>\n",
       "      <td>46.666667</td>\n",
       "    </tr>\n",
       "    <tr>\n",
       "      <th>21</th>\n",
       "      <td>delta</td>\n",
       "      <td>databricks</td>\n",
       "      <td>85</td>\n",
       "      <td>316</td>\n",
       "      <td>26.898734</td>\n",
       "    </tr>\n",
       "    <tr>\n",
       "      <th>151</th>\n",
       "      <td>iceberg</td>\n",
       "      <td>amazon</td>\n",
       "      <td>25</td>\n",
       "      <td>330</td>\n",
       "      <td>7.575758</td>\n",
       "    </tr>\n",
       "  </tbody>\n",
       "</table>\n",
       "</div>"
      ],
      "text/plain": [
       "     project company_clean_3  company_contributors  project_contributors  \\\n",
       "140     hudi         unknown                   228                   341   \n",
       "64     delta         unknown                   150                   316   \n",
       "229  iceberg         unknown                   154                   330   \n",
       "21     delta      databricks                    85                   316   \n",
       "151  iceberg          amazon                    25                   330   \n",
       "\n",
       "     company_pct_project_contributors  \n",
       "140                         66.862170  \n",
       "64                          47.468354  \n",
       "229                         46.666667  \n",
       "21                          26.898734  \n",
       "151                          7.575758  "
      ]
     },
     "execution_count": 192,
     "metadata": {},
     "output_type": "execute_result"
    }
   ],
   "source": [
    "df_contributors_by_company = pd.merge(df_contributors_by_company,df_contributors_by_project, on='project', how='left')\n",
    "df_contributors_by_company[['company_pct_project_contributors']] = 100*(df_contributors_by_company['company_contributors']/df_contributors_by_company['project_contributors'])\n",
    "df_contributors_by_company.sort_values(by='company_pct_project_contributors', ascending=False).head()"
   ]
  },
  {
   "cell_type": "code",
   "execution_count": 193,
   "id": "c97bfae0",
   "metadata": {},
   "outputs": [],
   "source": [
    "df_contributors_by_company_delta = df_contributors_by_company[df_contributors_by_company['project'] == 'delta'].sort_values(by='company_pct_project_contributors', ascending=False)\n",
    "df_contributors_by_company_iceberg = df_contributors_by_company[df_contributors_by_company['project'] == 'iceberg'].sort_values(by='company_pct_project_contributors', ascending=False)\n",
    "df_contributors_by_company_hudi = df_contributors_by_company[df_contributors_by_company['project'] == 'hudi'].sort_values(by='company_pct_project_contributors', ascending=False)"
   ]
  },
  {
   "cell_type": "code",
   "execution_count": 196,
   "id": "ee47e4da",
   "metadata": {},
   "outputs": [
    {
     "data": {
      "image/png": "[encoded data removed]",
      "text/plain": [
       "<Figure size 432x288 with 1 Axes>"
      ]
     },
     "metadata": {
      "needs_background": "light"
     },
     "output_type": "display_data"
    }
   ],
   "source": [
    "plt.barh(df_contributors_by_company_delta['company_clean_3'].head(10), df_contributors_by_company_delta['company_pct_project_contributors'].head(10), color = \"red\")\n",
    "plt.xlabel(\"Percent of Contributors\") \n",
    "plt.ylabel(\"Company\") \n",
    "plt.title(\"% of Unique Project Contributors by Company\")\n",
    "plt.show()"
   ]
  },
  {
   "cell_type": "code",
   "execution_count": 197,
   "id": "b5c19503",
   "metadata": {},
   "outputs": [
    {
     "data": {
      "image/png": "[encoded data removed]",
      "text/plain": [
       "<Figure size 432x288 with 1 Axes>"
      ]
     },
     "metadata": {
      "needs_background": "light"
     },
     "output_type": "display_data"
    }
   ],
   "source": [
    "plt.barh(df_contributors_by_company_iceberg['company_clean_3'].head(10), df_contributors_by_company_iceberg['company_pct_project_contributors'].head(10), color = \"blue\")\n",
    "plt.xlabel(\"Percent of Contributors\") \n",
    "plt.ylabel(\"Company\") \n",
    "plt.title(\"% of Unique Project Contributors by Company\")\n",
    "plt.show()"
   ]
  }
 ],
 "metadata": {
  "kernelspec": {
   "display_name": "Python 3",
   "language": "python",
   "name": "python3"
  },
  "language_info": {
   "codemirror_mode": {
    "name": "ipython",
    "version": 3
   },
   "file_extension": ".py",
   "mimetype": "text/x-python",
   "name": "python",
   "nbconvert_exporter": "python",
   "pygments_lexer": "ipython3",
   "version": "3.8.8"
  }
 },
 "nbformat": 4,
 "nbformat_minor": 5
}
